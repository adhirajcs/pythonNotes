{
  "nbformat": 4,
  "nbformat_minor": 0,
  "metadata": {
    "colab": {
      "provenance": [],
      "authorship_tag": "ABX9TyMZdoBB+Z5oBt1cVXr1Ma66"
    },
    "kernelspec": {
      "name": "python3",
      "display_name": "Python 3"
    },
    "language_info": {
      "name": "python"
    }
  },
  "cells": [
    {
      "cell_type": "markdown",
      "source": [
        "## Author - Adhiraj Saha"
      ],
      "metadata": {
        "id": "5eRAXS9Smw-p"
      }
    },
    {
      "cell_type": "markdown",
      "source": [
        "### Conditional Satements"
      ],
      "metadata": {
        "id": "joqElD_inKdS"
      }
    },
    {
      "cell_type": "code",
      "execution_count": null,
      "metadata": {
        "colab": {
          "base_uri": "https://localhost:8080/"
        },
        "id": "joAyOBjQh6Kd",
        "outputId": "0b1f6e5c-ba4a-4cb3-f8fc-320d77f72b43"
      },
      "outputs": [
        {
          "output_type": "stream",
          "name": "stdout",
          "text": [
            "HI!\n",
            "BYE!\n",
            "WAIT!\n",
            "a is greater than b\n",
            "a is also greater than c\n"
          ]
        }
      ],
      "source": [
        "i = 3\n",
        "\n",
        "# if\n",
        "if i>2:\n",
        "  print(\"HI!\")\n",
        "\n",
        "# if-else\n",
        "if not i > 2:\n",
        "  print(\"HI!\")\n",
        "else:\n",
        "  print(\"BYE!\")\n",
        "\n",
        "# if-elif\n",
        "if not i > 2:\n",
        "  print(\"HI!\")\n",
        "elif i > 2:\n",
        "  print(\"WAIT!\")\n",
        "else:\n",
        "  print(\"BYE!\")\n",
        "\n",
        "\n",
        "a = 10\n",
        "b = 3\n",
        "c = 4\n",
        "# nested if-else\n",
        "if a>b:\n",
        "  print(\"a is greater than b\")\n",
        "  if a>c:\n",
        "    print(\"a is also greater than c\")\n",
        "  else:\n",
        "    print(\"a is not greater than c\")\n",
        "else:\n",
        "  print(\"a is not greater than b\")"
      ]
    },
    {
      "cell_type": "markdown",
      "source": [
        "### Loops"
      ],
      "metadata": {
        "id": "9wJvNKpEoa7e"
      }
    },
    {
      "cell_type": "code",
      "source": [
        "# For Loop\n",
        "for i in range(0,10,2):\n",
        "  print(i)\n",
        "\n",
        "print()\n",
        "\n",
        "# While loop\n",
        "i=1\n",
        "while i<10:\n",
        "  print(i)\n",
        "  i+=2"
      ],
      "metadata": {
        "colab": {
          "base_uri": "https://localhost:8080/"
        },
        "id": "wo-kWPTLp0mR",
        "outputId": "f30a7aed-75b1-4e41-f3c4-a004da0d1be0"
      },
      "execution_count": null,
      "outputs": [
        {
          "output_type": "stream",
          "name": "stdout",
          "text": [
            "0\n",
            "2\n",
            "4\n",
            "6\n",
            "8\n",
            "\n",
            "1\n",
            "3\n",
            "5\n",
            "7\n",
            "9\n"
          ]
        }
      ]
    },
    {
      "cell_type": "markdown",
      "source": [
        "**Break, Continue Statements in loop.**"
      ],
      "metadata": {
        "id": "KMCGfW7Cq_EA"
      }
    },
    {
      "cell_type": "code",
      "source": [
        "# break\n",
        "for i in range(100):\n",
        "  print(i, \"hi\")\n",
        "  if i==5:\n",
        "    print(\"GD\")\n",
        "    break\n",
        "print(\"Night\")"
      ],
      "metadata": {
        "colab": {
          "base_uri": "https://localhost:8080/"
        },
        "id": "-rAqDmEqq6tt",
        "outputId": "366c1d37-9eeb-4707-c274-aacfc4732c66"
      },
      "execution_count": null,
      "outputs": [
        {
          "output_type": "stream",
          "name": "stdout",
          "text": [
            "0 hi\n",
            "1 hi\n",
            "2 hi\n",
            "3 hi\n",
            "4 hi\n",
            "5 hi\n",
            "GD\n",
            "Night\n"
          ]
        }
      ]
    },
    {
      "cell_type": "code",
      "source": [
        "# continue\n",
        "for i in range(11):\n",
        "  print(i)\n",
        "  if i<10:\n",
        "    continue\n",
        "  print(\"Welcome\")"
      ],
      "metadata": {
        "colab": {
          "base_uri": "https://localhost:8080/"
        },
        "id": "Z5MUZ8uNr7vL",
        "outputId": "ed513476-93c0-41c3-c13f-25bea67afe5e"
      },
      "execution_count": null,
      "outputs": [
        {
          "output_type": "stream",
          "name": "stdout",
          "text": [
            "0\n",
            "1\n",
            "2\n",
            "3\n",
            "4\n",
            "5\n",
            "6\n",
            "7\n",
            "8\n",
            "9\n",
            "10\n",
            "Welcome\n"
          ]
        }
      ]
    }
  ]
}
