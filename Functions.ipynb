{
  "nbformat": 4,
  "nbformat_minor": 0,
  "metadata": {
    "colab": {
      "provenance": [],
      "authorship_tag": "ABX9TyNxMqtmtdIAW1YZTcjqCi0G"
    },
    "kernelspec": {
      "name": "python3",
      "display_name": "Python 3"
    },
    "language_info": {
      "name": "python"
    }
  },
  "cells": [
    {
      "cell_type": "markdown",
      "source": [
        "## Author - Adhiraj Saha"
      ],
      "metadata": {
        "id": "gyv49eyYtyOf"
      }
    },
    {
      "cell_type": "markdown",
      "source": [
        "**Function Defination and Function Calling**"
      ],
      "metadata": {
        "id": "0tkNwFcm4Td_"
      }
    },
    {
      "cell_type": "code",
      "execution_count": null,
      "metadata": {
        "colab": {
          "base_uri": "https://localhost:8080/"
        },
        "id": "7Hk_6neftvRE",
        "outputId": "eeee7eeb-345e-4005-d2cb-f8e536b612f5"
      },
      "outputs": [
        {
          "output_type": "stream",
          "name": "stdout",
          "text": [
            "30\n"
          ]
        }
      ],
      "source": [
        "# function defination\n",
        "def add():\n",
        "  a=10                        # function body\n",
        "  b=20\n",
        "  return a+b\n",
        "\n",
        "# function calling\n",
        "print(add())"
      ]
    },
    {
      "cell_type": "markdown",
      "source": [
        "**Arguments in function**"
      ],
      "metadata": {
        "id": "SN4zj-Su4ulb"
      }
    },
    {
      "cell_type": "code",
      "source": [
        "# function with one argument\n",
        "def my_func(a):\n",
        "  return a\n",
        "\n",
        "print(my_func(10))\n",
        "\n",
        "\n",
        "# function with two arguments\n",
        "def func(a,b):\n",
        "  return a+b\n",
        "\n",
        "print(10,20)"
      ],
      "metadata": {
        "colab": {
          "base_uri": "https://localhost:8080/"
        },
        "id": "UCiXOouO42m6",
        "outputId": "d239b6ed-6f0b-4cca-a030-06634b97b792"
      },
      "execution_count": 2,
      "outputs": [
        {
          "output_type": "stream",
          "name": "stdout",
          "text": [
            "10\n",
            "10 20\n"
          ]
        }
      ]
    },
    {
      "cell_type": "markdown",
      "source": [
        "**Returning Values from function**"
      ],
      "metadata": {
        "id": "TPdh9UNq9kIa"
      }
    },
    {
      "cell_type": "code",
      "source": [
        "# return values from a fruitful function\n",
        "'''functions that returns a value after their completion are called Fruitful'''\n",
        "\n",
        "def sq(x):\n",
        "  y = x*x\n",
        "  return y\n",
        "\n",
        "num = int(input(\"Number to square: \"))\n",
        "num_sq = sq(num)\n",
        "print(f\"Square of {num} is {num_sq}\")"
      ],
      "metadata": {
        "colab": {
          "base_uri": "https://localhost:8080/"
        },
        "id": "aLQTVXmA9hWB",
        "outputId": "9ed0ce55-f694-4b4c-9675-5a8485f8021f"
      },
      "execution_count": 3,
      "outputs": [
        {
          "output_type": "stream",
          "name": "stdout",
          "text": [
            "Number to square: 2\n",
            "Square of 2 is 4\n"
          ]
        }
      ]
    },
    {
      "cell_type": "code",
      "source": [
        "# python functions returns the special value None\n",
        "# unless there is a Return statement with any other value\n",
        "\n",
        "def sq(x):\n",
        "  y=x*x\n",
        "\n",
        "num = 4\n",
        "num_sq = sq(num)\n",
        "print(f\"Square of {num} is {num_sq}\")"
      ],
      "metadata": {
        "colab": {
          "base_uri": "https://localhost:8080/"
        },
        "id": "fDNHXPqf-POY",
        "outputId": "83b570a9-5efd-407c-8ca3-d0d31159fd90"
      },
      "execution_count": 5,
      "outputs": [
        {
          "output_type": "stream",
          "name": "stdout",
          "text": [
            "Square of 4 is None\n"
          ]
        }
      ]
    },
    {
      "cell_type": "markdown",
      "source": [
        "**Type Annotations**"
      ],
      "metadata": {
        "id": "xFUILMcu_GyJ"
      }
    },
    {
      "cell_type": "code",
      "source": [
        "# It indicates the type of parameters of the function\n",
        "# and the type of value which will be returned by the function\n",
        "\n",
        "def add(x: int, y: float) -> float:\n",
        "  return x + y\n",
        "\n",
        "print(add(10,20.5))\n",
        "\n",
        "add.__annotations__"
      ],
      "metadata": {
        "colab": {
          "base_uri": "https://localhost:8080/"
        },
        "id": "HOa7C6HP_JiY",
        "outputId": "4dfef540-002c-4a77-b88c-44ad7febd080"
      },
      "execution_count": 7,
      "outputs": [
        {
          "output_type": "stream",
          "name": "stdout",
          "text": [
            "30.5\n"
          ]
        },
        {
          "output_type": "execute_result",
          "data": {
            "text/plain": [
              "{'x': int, 'y': float, 'return': float}"
            ]
          },
          "metadata": {},
          "execution_count": 7
        }
      ]
    },
    {
      "cell_type": "markdown",
      "source": [
        "**Optional Parameters**"
      ],
      "metadata": {
        "id": "s6SQxo0j_2Rp"
      }
    },
    {
      "cell_type": "code",
      "source": [
        "def func(x,y=2):\n",
        "  print(x**y)\n",
        "\n",
        "func(2,2)\n",
        "func(2)\n",
        "func(2,3)"
      ],
      "metadata": {
        "colab": {
          "base_uri": "https://localhost:8080/"
        },
        "id": "Jk6iUUSv_4qW",
        "outputId": "e5e94e52-2753-4ca6-a1da-0ce5bd7b83a9"
      },
      "execution_count": 11,
      "outputs": [
        {
          "output_type": "stream",
          "name": "stdout",
          "text": [
            "4\n",
            "4\n",
            "8\n",
            "64\n"
          ]
        }
      ]
    },
    {
      "cell_type": "markdown",
      "source": [
        "**Lambda Expression**"
      ],
      "metadata": {
        "id": "a7CPh5ieDk3o"
      }
    },
    {
      "cell_type": "code",
      "source": [
        "# anonymous functions can be created using lambda keyword\n",
        "\n",
        "x = lambda a,b: a+b\n",
        "print(x(1,2))\n",
        "\n",
        "\n",
        "# lambda expression to return a function\n",
        "\n",
        "def pow(n):\n",
        "  return lambda x: x**n\n",
        "\n",
        "f = pow(3)\n",
        "print(f(2))"
      ],
      "metadata": {
        "colab": {
          "base_uri": "https://localhost:8080/"
        },
        "id": "6E2cPrX-DqNp",
        "outputId": "b9d44a81-67af-4e1f-ed6d-4612e3ca1146"
      },
      "execution_count": 18,
      "outputs": [
        {
          "output_type": "stream",
          "name": "stdout",
          "text": [
            "3\n",
            "8\n"
          ]
        }
      ]
    },
    {
      "cell_type": "markdown",
      "source": [
        "**sorted() function using lambda**"
      ],
      "metadata": {
        "id": "dQjB2I87I2du"
      }
    },
    {
      "cell_type": "code",
      "source": [
        "# descending sort by the third items of each tuple of the whole list\n",
        "\n",
        "marks = [(10,20,30), (20,30,40), (30,40,50)]\n",
        "print(type(marks))\n",
        "print(type(marks[0]))\n",
        "\n",
        "print(sorted(marks, key = lambda x: x[2], reverse = True))"
      ],
      "metadata": {
        "colab": {
          "base_uri": "https://localhost:8080/"
        },
        "id": "JCXh7xJEI0Ik",
        "outputId": "79bfcdbf-bffc-4b29-d2c8-964eee816ac0"
      },
      "execution_count": 23,
      "outputs": [
        {
          "output_type": "stream",
          "name": "stdout",
          "text": [
            "<class 'list'>\n",
            "<class 'tuple'>\n",
            "[(30, 40, 50), (20, 30, 40), (10, 20, 30)]\n"
          ]
        }
      ]
    },
    {
      "cell_type": "code",
      "source": [
        "# sorting the items of the dictionary\n",
        "\n",
        "marks = {\"A\": 60, \"B\": 20, \"C\": 40}\n",
        "print(type(marks))\n",
        "\n",
        "print(sorted(marks.items(), key = lambda x: x[1]))"
      ],
      "metadata": {
        "colab": {
          "base_uri": "https://localhost:8080/"
        },
        "id": "YTwbC0EEJ64E",
        "outputId": "61e254d1-f715-4dbb-ad29-d582e39ea808"
      },
      "execution_count": 27,
      "outputs": [
        {
          "output_type": "stream",
          "name": "stdout",
          "text": [
            "<class 'dict'>\n",
            "[('B', 20), ('C', 40), ('A', 60)]\n"
          ]
        }
      ]
    },
    {
      "cell_type": "markdown",
      "source": [
        "### Note:"
      ],
      "metadata": {
        "id": "uOa_yT0jAwdw"
      }
    },
    {
      "cell_type": "code",
      "source": [
        "'''the default value is evaluated at the time when the function is defined\n",
        "not when the function is called'''\n",
        "\n",
        "b = 3\n",
        "def f(a,b=b):\n",
        "  print(a**b)\n",
        "\n",
        "b = 2\n",
        "f(2)"
      ],
      "metadata": {
        "colab": {
          "base_uri": "https://localhost:8080/"
        },
        "id": "6oUKmL9yAzJn",
        "outputId": "b354bc26-b0d2-48b5-d49a-538c6af09c86"
      },
      "execution_count": 15,
      "outputs": [
        {
          "output_type": "stream",
          "name": "stdout",
          "text": [
            "8\n"
          ]
        }
      ]
    }
  ]
}