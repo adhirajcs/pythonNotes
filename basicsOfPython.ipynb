{
  "nbformat": 4,
  "nbformat_minor": 0,
  "metadata": {
    "colab": {
      "provenance": [],
      "authorship_tag": "ABX9TyOOXKEQQPPuU3rzO06P3bOR",
      "include_colab_link": true
    },
    "kernelspec": {
      "name": "python3",
      "display_name": "Python 3"
    },
    "language_info": {
      "name": "python"
    }
  },
  "cells": [
    {
      "cell_type": "markdown",
      "metadata": {
        "id": "view-in-github",
        "colab_type": "text"
      },
      "source": [
        "<a href=\"https://colab.research.google.com/github/adhirajcs/python_MCA/blob/main/basicsOfPython.ipynb\" target=\"_parent\"><img src=\"https://colab.research.google.com/assets/colab-badge.svg\" alt=\"Open In Colab\"/></a>"
      ]
    },
    {
      "cell_type": "markdown",
      "source": [
        "Author - Adhiraj Saha"
      ],
      "metadata": {
        "id": "ocYA2lJqJMtW"
      }
    },
    {
      "cell_type": "markdown",
      "source": [
        "User Input"
      ],
      "metadata": {
        "id": "5tQ48pwTGb2G"
      }
    },
    {
      "cell_type": "code",
      "execution_count": null,
      "metadata": {
        "colab": {
          "base_uri": "https://localhost:8080/"
        },
        "id": "Y2X5fY8uEWzZ",
        "outputId": "5d738663-4363-48b6-fd9c-720fda1a5527"
      },
      "outputs": [
        {
          "output_type": "stream",
          "name": "stdout",
          "text": [
            "Enter the number: 32\n",
            "32\n",
            "Enter Float value: 43.42\n",
            "43.42\n"
          ]
        }
      ],
      "source": [
        "int1 = int(input(\"Enter the number: \"))\n",
        "print(int1)\n",
        "\n",
        "float1 = float(input(\"Enter Float value: \"))\n",
        "print(float1)"
      ]
    },
    {
      "cell_type": "markdown",
      "source": [
        "range() method"
      ],
      "metadata": {
        "id": "rgB1__CUHClO"
      }
    },
    {
      "cell_type": "code",
      "source": [
        "# range(start_value, end_value, step_value)\n",
        "\n",
        "for i in range(0,10,2):\n",
        "  print(i)"
      ],
      "metadata": {
        "colab": {
          "base_uri": "https://localhost:8080/"
        },
        "id": "9Umf5ir8HFEN",
        "outputId": "a9329cf8-4ec2-4c1f-d7b8-49d58cd37e33"
      },
      "execution_count": null,
      "outputs": [
        {
          "output_type": "stream",
          "name": "stdout",
          "text": [
            "0\n",
            "2\n",
            "4\n",
            "6\n",
            "8\n"
          ]
        }
      ]
    },
    {
      "cell_type": "markdown",
      "source": [
        "Comments and Escape Sequence"
      ],
      "metadata": {
        "id": "NXL0_GG9HZzO"
      }
    },
    {
      "cell_type": "code",
      "source": [
        "# Single line commment\n",
        "\"\"\" Multi\n",
        "Line\n",
        "Comment \"\"\"\n",
        "\n",
        "print(\"New\\nline\")               #creates a new line\n",
        "print(\"backslash -> \\\\\")         # it adds backslash\n",
        "print(\"Single Quote -> \\'\")      # it adds single quote, same for double quotes\n",
        "print(\"Tab -> \\t:)\")             # it adds a tab space\n",
        "print(\"Tab -> :)(\\b\")            # it adds a backspace"
      ],
      "metadata": {
        "colab": {
          "base_uri": "https://localhost:8080/"
        },
        "id": "rauqJ6sQHcz-",
        "outputId": "19420fe9-b23e-4e35-8526-0a8c2adc7e33"
      },
      "execution_count": 22,
      "outputs": [
        {
          "output_type": "stream",
          "name": "stdout",
          "text": [
            "New\n",
            "line\n",
            "backslash -> \\\n",
            "Single Quote -> '\n",
            "Tab -> \t:)\n",
            "Tab -> :)(\b\n",
            "fds\rfdsf\n"
          ]
        }
      ]
    }
  ]
}