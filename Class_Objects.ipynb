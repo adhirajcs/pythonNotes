{
  "nbformat": 4,
  "nbformat_minor": 0,
  "metadata": {
    "colab": {
      "provenance": [],
      "authorship_tag": "ABX9TyPwC8NMVvKCjTtXYDRSwmvK"
    },
    "kernelspec": {
      "name": "python3",
      "display_name": "Python 3"
    },
    "language_info": {
      "name": "python"
    }
  },
  "cells": [
    {
      "cell_type": "markdown",
      "source": [
        "## Author - Adhiraj Saha"
      ],
      "metadata": {
        "id": "hmmiPNNiL_CE"
      }
    },
    {
      "cell_type": "markdown",
      "source": [
        "### Class"
      ],
      "metadata": {
        "id": "bo5V6SW2iTdC"
      }
    },
    {
      "cell_type": "code",
      "execution_count": 39,
      "metadata": {
        "id": "UMPHHcuOLuO-",
        "colab": {
          "base_uri": "https://localhost:8080/"
        },
        "outputId": "b1457405-6bb6-409e-feb8-652a0fea50f9"
      },
      "outputs": [
        {
          "output_type": "stream",
          "name": "stdout",
          "text": [
            "Old value: 0\n",
            "New value: 100\n",
            "New value of obj.a: 200\n",
            "Old value of test.a: 100\n"
          ]
        }
      ],
      "source": [
        "# class creation and class\n",
        "class test:\n",
        "  # class variable\n",
        "  a=0\n",
        "  # class method\n",
        "  def display(self):\n",
        "    print(\"Hello\")\n",
        "\n",
        "#class object creation\n",
        "obj = test()\n",
        "\n",
        "print(\"Old value:\", obj.a)\n",
        "test.a = 100\n",
        "print(\"New value:\", obj.a)\n",
        "obj.a = 200\n",
        "print(\"New value of obj.a:\", obj.a)\n",
        "print(\"Old value of test.a:\", test.a)\n"
      ]
    },
    {
      "cell_type": "markdown",
      "source": [
        "### Class Constructor"
      ],
      "metadata": {
        "id": "VCotzcAjkAVR"
      }
    },
    {
      "cell_type": "code",
      "source": [
        "'''\n",
        "\"self\" doesn't have to named self, it can be anything as long as it is the\n",
        "first parameter of the class method\n",
        "'''\n",
        "\n",
        "class students:\n",
        "\n",
        "  # constructor\n",
        "  def __init__(self, name=\"Adhiraj\", roll=13):\n",
        "    self.name = name\n",
        "    self.roll = roll\n",
        "\n",
        "  # destructor\n",
        "  def __del__(self):\n",
        "    print(\"Object is Destroyed!!!\")\n",
        "\n",
        "  def show(self):\n",
        "    print(f\"Name: {self.name} and Roll No.: {self.roll}\")\n",
        "\n",
        "# object creation\n",
        "obj1 = students()\n",
        "obj1.show()\n",
        "\n",
        "# obj2 = students(\"Pranati\", roll=14)\n",
        "# obj2.show()\n",
        "\n",
        "del obj1"
      ],
      "metadata": {
        "colab": {
          "base_uri": "https://localhost:8080/"
        },
        "id": "1y-1tHi8kFV0",
        "outputId": "1d201e42-1693-44f5-8a01-d6f84b8f63a5"
      },
      "execution_count": 40,
      "outputs": [
        {
          "output_type": "stream",
          "name": "stdout",
          "text": [
            "Name: Adhiraj and Roll No.: 13\n",
            "Object is Destroyed!!!\n"
          ]
        }
      ]
    },
    {
      "cell_type": "markdown",
      "source": [
        "### Inner Class"
      ],
      "metadata": {
        "id": "RIBJx27yvg4e"
      }
    },
    {
      "cell_type": "code",
      "source": [
        "# outer class\n",
        "class A:\n",
        "  def show(self):\n",
        "\n",
        "    print(\"Outer Class\")\n",
        "\n",
        "    # creating an object of the inner class\n",
        "    self.obj = self.B()\n",
        "\n",
        "    # calling the method of the inner class\n",
        "    self.obj.display()\n",
        "  \n",
        "  # inner class\n",
        "  class B:\n",
        "\n",
        "    def display(self):\n",
        "      print(\"Inner Class\")\n",
        "\n",
        "# creating object of the outer class\n",
        "obj = A()\n",
        "\n",
        "# calling the method of the outer class\n",
        "obj.show()\n",
        "\n",
        "# calling the method of the inner class\n",
        "obj.B().display()"
      ],
      "metadata": {
        "colab": {
          "base_uri": "https://localhost:8080/"
        },
        "id": "Nw2nZkoavpeG",
        "outputId": "4dc52287-e7c3-43d3-dfa0-deef7e026513"
      },
      "execution_count": 48,
      "outputs": [
        {
          "output_type": "stream",
          "name": "stdout",
          "text": [
            "Outer Class\n",
            "Inner Class\n",
            "Inner Class\n"
          ]
        }
      ]
    }
  ]
}