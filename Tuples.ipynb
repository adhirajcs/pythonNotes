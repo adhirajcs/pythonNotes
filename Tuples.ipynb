{
  "nbformat": 4,
  "nbformat_minor": 0,
  "metadata": {
    "colab": {
      "provenance": [],
      "authorship_tag": "ABX9TyOfirzmW+/Deia7kEbBrO/X"
    },
    "kernelspec": {
      "name": "python3",
      "display_name": "Python 3"
    },
    "language_info": {
      "name": "python"
    }
  },
  "cells": [
    {
      "cell_type": "markdown",
      "source": [
        "## Author - Adhiraj Saha"
      ],
      "metadata": {
        "id": "Nv1PfvR0KWps"
      }
    },
    {
      "cell_type": "markdown",
      "source": [
        "### Tuples are ***ordered***, **indexed**, **immutable**."
      ],
      "metadata": {
        "id": "HbjbNEexKa3F"
      }
    },
    {
      "cell_type": "markdown",
      "source": [
        "count, index methods"
      ],
      "metadata": {
        "id": "6WUYZagILE_y"
      }
    },
    {
      "cell_type": "code",
      "execution_count": 9,
      "metadata": {
        "colab": {
          "base_uri": "https://localhost:8080/"
        },
        "id": "60PSGwTTKPoL",
        "outputId": "ab728f8d-3c36-46a9-9946-64414baccfae"
      },
      "outputs": [
        {
          "output_type": "stream",
          "name": "stdout",
          "text": [
            "3\n",
            "2\n"
          ]
        }
      ],
      "source": [
        "tup = (1,2,3,4,5,4,7,4)\n",
        "\n",
        "# count() method\n",
        "print(tup.count(4))           # returns the number of occurences of the\n",
        "                              # specified value in the tuple\n",
        "\n",
        "# index() method\n",
        "print(tup.index(3))           # searches the index number of the specified\n",
        "                              # value and returns its position"
      ]
    }
  ]
}