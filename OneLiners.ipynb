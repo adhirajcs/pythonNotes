{
  "nbformat": 4,
  "nbformat_minor": 0,
  "metadata": {
    "colab": {
      "provenance": [],
      "authorship_tag": "ABX9TyPpaYb2mYW8CSA+4JQUIqrh",
      "include_colab_link": true
    },
    "kernelspec": {
      "name": "python3",
      "display_name": "Python 3"
    },
    "language_info": {
      "name": "python"
    }
  },
  "cells": [
    {
      "cell_type": "markdown",
      "metadata": {
        "id": "view-in-github",
        "colab_type": "text"
      },
      "source": [
        "<a href=\"https://colab.research.google.com/github/adhirajcs/python_MCA/blob/main/One_Liners.ipynb\" target=\"_parent\"><img src=\"https://colab.research.google.com/assets/colab-badge.svg\" alt=\"Open In Colab\"/></a>"
      ]
    },
    {
      "cell_type": "markdown",
      "source": [
        "List Comprehension"
      ],
      "metadata": {
        "id": "4BWFMFI8BwJV"
      }
    },
    {
      "cell_type": "code",
      "execution_count": null,
      "metadata": {
        "id": "upUb7YtjixLg",
        "colab": {
          "base_uri": "https://localhost:8080/"
        },
        "outputId": "c13f600a-be81-4d96-bc42-ddfd33e69b37"
      },
      "outputs": [
        {
          "output_type": "stream",
          "name": "stdout",
          "text": [
            "[0, 4, 16, 36, 64]\n"
          ]
        }
      ],
      "source": [
        "li = [i*i for i in range(10) if i%2 == 0]\n",
        "print(li)"
      ]
    },
    {
      "cell_type": "markdown",
      "source": [
        "One Liner If Else"
      ],
      "metadata": {
        "id": "MtCkpbMFCY2D"
      }
    },
    {
      "cell_type": "code",
      "source": [
        "i = 4 if 3>2 else print(\"Wrong\")\n",
        "print(i)"
      ],
      "metadata": {
        "colab": {
          "base_uri": "https://localhost:8080/"
        },
        "id": "lYp3tY_JCWoH",
        "outputId": "8448bd31-8775-4375-dcfc-37000ace1da4"
      },
      "execution_count": null,
      "outputs": [
        {
          "output_type": "stream",
          "name": "stdout",
          "text": [
            "4\n"
          ]
        }
      ]
    },
    {
      "cell_type": "markdown",
      "source": [
        "Print only elements"
      ],
      "metadata": {
        "id": "ELPF7EbNNyGt"
      }
    },
    {
      "cell_type": "code",
      "source": [
        "li = [1, 2, 3, 4, 5]\n",
        "\n",
        "print(*li)"
      ],
      "metadata": {
        "colab": {
          "base_uri": "https://localhost:8080/"
        },
        "id": "CFNCSKbvDU-b",
        "outputId": "a142a5da-78fa-4f63-9b11-843019242107"
      },
      "execution_count": null,
      "outputs": [
        {
          "output_type": "stream",
          "name": "stdout",
          "text": [
            "1 2 3 4 5 \n",
            "1 2 3 4 5\n"
          ]
        }
      ]
    },
    {
      "cell_type": "markdown",
      "source": [
        "One line python code using \";\""
      ],
      "metadata": {
        "id": "bEx0Vy_pMiCc"
      }
    },
    {
      "cell_type": "code",
      "source": [
        "import datetime; print((datetime.date(2022,12,31)-datetime.date.today()).days)"
      ],
      "metadata": {
        "colab": {
          "base_uri": "https://localhost:8080/"
        },
        "id": "NYiuKEUcL-Xd",
        "outputId": "af04393a-86a3-48c1-8bac-01c67cf1ecb8"
      },
      "execution_count": null,
      "outputs": [
        {
          "output_type": "stream",
          "name": "stdout",
          "text": [
            "14\n"
          ]
        }
      ]
    },
    {
      "cell_type": "markdown",
      "source": [
        "Reversing a List and a string"
      ],
      "metadata": {
        "id": "ePObcgScMpkQ"
      }
    },
    {
      "cell_type": "code",
      "source": [
        "li = [1,2,3,4,5,6]\n",
        "print(li[::-1])\n",
        "\n",
        "st = \"Hello World\"\n",
        "print(st[::-1])"
      ],
      "metadata": {
        "colab": {
          "base_uri": "https://localhost:8080/"
        },
        "id": "FHv7vyleMnnQ",
        "outputId": "b4f4030b-4892-4528-958a-11ed5e7622c3"
      },
      "execution_count": null,
      "outputs": [
        {
          "output_type": "stream",
          "name": "stdout",
          "text": [
            "[6, 5, 4, 3, 2, 1]\n",
            "dlroW olleH\n"
          ]
        }
      ]
    },
    {
      "cell_type": "markdown",
      "source": [
        "Assigning Multiple Variables"
      ],
      "metadata": {
        "id": "TAUDH76sNSrW"
      }
    },
    {
      "cell_type": "code",
      "source": [
        "a,b,c,d = 1,\"hello\",True,0.43\n",
        "\n",
        "print(a,b,c,d)"
      ],
      "metadata": {
        "colab": {
          "base_uri": "https://localhost:8080/"
        },
        "id": "CDjhmH0oNXzX",
        "outputId": "355c2dd7-9606-4fd1-9759-4705254ba59e"
      },
      "execution_count": null,
      "outputs": [
        {
          "output_type": "stream",
          "name": "stdout",
          "text": [
            "1 hello True 0.43\n"
          ]
        }
      ]
    },
    {
      "cell_type": "markdown",
      "source": [
        "Convert number string to integer list"
      ],
      "metadata": {
        "id": "Yang2tKCN_3z"
      }
    },
    {
      "cell_type": "code",
      "source": [
        "st = \"1 2 3 4 5 6\"\n",
        "li = list(st.split())\n",
        "print(li)"
      ],
      "metadata": {
        "colab": {
          "base_uri": "https://localhost:8080/"
        },
        "id": "Ogl5EX1uOH58",
        "outputId": "8cb5f78b-afd3-4829-a85b-f860b5e7a19b"
      },
      "execution_count": null,
      "outputs": [
        {
          "output_type": "stream",
          "name": "stdout",
          "text": [
            "['1', '2', '3', '4', '5', '6']\n"
          ]
        }
      ]
    }
  ]
}
