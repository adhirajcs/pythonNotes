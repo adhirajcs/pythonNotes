{
  "nbformat": 4,
  "nbformat_minor": 0,
  "metadata": {
    "colab": {
      "provenance": [],
      "authorship_tag": "ABX9TyNv2/vlJYzF67yfU0Db8RMy"
    },
    "kernelspec": {
      "name": "python3",
      "display_name": "Python 3"
    },
    "language_info": {
      "name": "python"
    }
  },
  "cells": [
    {
      "cell_type": "markdown",
      "source": [
        "## Author - Adhiraj Saha"
      ],
      "metadata": {
        "id": "NMT-W3a_aHPI"
      }
    },
    {
      "cell_type": "markdown",
      "source": [
        "### Importing the pandas package"
      ],
      "metadata": {
        "id": "k3j-tHuneinn"
      }
    },
    {
      "cell_type": "code",
      "source": [
        "# importing pandas package\n",
        "import pandas as pd"
      ],
      "metadata": {
        "id": "3eI8TqbZctMW"
      },
      "execution_count": null,
      "outputs": []
    },
    {
      "cell_type": "code",
      "source": [
        "# Some prerequisites\n",
        "\n",
        "import numpy as np\n",
        "grades = [50,50,47,97,49,3,53,42,26,74,82,62,37,15,70,27,36,35,48,52,63,64]\n",
        "study_hours = [10.0,11.5,9.0, 16.0, 9.25,1.0,11.5,9.0, 8.5, 14.5, 15.5, 13.75,9.0,8.0, 15.5,8.0,9.0, 6.0, 10.0,12.0, 12.5, 12.0]\n",
        "\n",
        "student_data = np.array([study_hours, grades])\n",
        "student_data"
      ],
      "metadata": {
        "colab": {
          "base_uri": "https://localhost:8080/"
        },
        "id": "T4LiVvkCdng7",
        "outputId": "d3a94e5b-ef6c-44c1-86d6-686c2e0415e5"
      },
      "execution_count": null,
      "outputs": [
        {
          "output_type": "execute_result",
          "data": {
            "text/plain": [
              "array([[10.  , 11.5 ,  9.  , 16.  ,  9.25,  1.  , 11.5 ,  9.  ,  8.5 ,\n",
              "        14.5 , 15.5 , 13.75,  9.  ,  8.  , 15.5 ,  8.  ,  9.  ,  6.  ,\n",
              "        10.  , 12.  , 12.5 , 12.  ],\n",
              "       [50.  , 50.  , 47.  , 97.  , 49.  ,  3.  , 53.  , 42.  , 26.  ,\n",
              "        74.  , 82.  , 62.  , 37.  , 15.  , 70.  , 27.  , 36.  , 35.  ,\n",
              "        48.  , 52.  , 63.  , 64.  ]])"
            ]
          },
          "metadata": {},
          "execution_count": 5
        }
      ]
    },
    {
      "cell_type": "markdown",
      "source": [
        "### Using DataFrame to represent data"
      ],
      "metadata": {
        "id": "JrkfH9KTaaI7"
      }
    },
    {
      "cell_type": "code",
      "execution_count": null,
      "metadata": {
        "id": "obFe3QDCZ89Q",
        "colab": {
          "base_uri": "https://localhost:8080/",
          "height": 739
        },
        "outputId": "58776172-87b3-496b-f31d-0f44f704221b"
      },
      "outputs": [
        {
          "output_type": "execute_result",
          "data": {
            "text/plain": [
              "         Name  StudyHours  Grade\n",
              "0         Dan       10.00   50.0\n",
              "1       Joann       11.50   50.0\n",
              "2       Pedro        9.00   47.0\n",
              "3       Rosie       16.00   97.0\n",
              "4       Ethan        9.25   49.0\n",
              "5       Vicky        1.00    3.0\n",
              "6    Frederic       11.50   53.0\n",
              "7      Jimmie        9.00   42.0\n",
              "8      Rhonda        8.50   26.0\n",
              "9    Giovanni       14.50   74.0\n",
              "10  Francesca       15.50   82.0\n",
              "11      Rajab       13.75   62.0\n",
              "12    Naiyana        9.00   37.0\n",
              "13       Kian        8.00   15.0\n",
              "14      Jenny       15.50   70.0\n",
              "15     Jakeem        8.00   27.0\n",
              "16     Helena        9.00   36.0\n",
              "17      Ismat        6.00   35.0\n",
              "18      Anila       10.00   48.0\n",
              "19       Skye       12.00   52.0\n",
              "20     Daniel       12.50   63.0\n",
              "21      Aisha       12.00   64.0"
            ],
            "text/html": [
              "\n",
              "  <div id=\"df-44f1eb80-3ca2-493f-828a-73fe59c17c1b\">\n",
              "    <div class=\"colab-df-container\">\n",
              "      <div>\n",
              "<style scoped>\n",
              "    .dataframe tbody tr th:only-of-type {\n",
              "        vertical-align: middle;\n",
              "    }\n",
              "\n",
              "    .dataframe tbody tr th {\n",
              "        vertical-align: top;\n",
              "    }\n",
              "\n",
              "    .dataframe thead th {\n",
              "        text-align: right;\n",
              "    }\n",
              "</style>\n",
              "<table border=\"1\" class=\"dataframe\">\n",
              "  <thead>\n",
              "    <tr style=\"text-align: right;\">\n",
              "      <th></th>\n",
              "      <th>Name</th>\n",
              "      <th>StudyHours</th>\n",
              "      <th>Grade</th>\n",
              "    </tr>\n",
              "  </thead>\n",
              "  <tbody>\n",
              "    <tr>\n",
              "      <th>0</th>\n",
              "      <td>Dan</td>\n",
              "      <td>10.00</td>\n",
              "      <td>50.0</td>\n",
              "    </tr>\n",
              "    <tr>\n",
              "      <th>1</th>\n",
              "      <td>Joann</td>\n",
              "      <td>11.50</td>\n",
              "      <td>50.0</td>\n",
              "    </tr>\n",
              "    <tr>\n",
              "      <th>2</th>\n",
              "      <td>Pedro</td>\n",
              "      <td>9.00</td>\n",
              "      <td>47.0</td>\n",
              "    </tr>\n",
              "    <tr>\n",
              "      <th>3</th>\n",
              "      <td>Rosie</td>\n",
              "      <td>16.00</td>\n",
              "      <td>97.0</td>\n",
              "    </tr>\n",
              "    <tr>\n",
              "      <th>4</th>\n",
              "      <td>Ethan</td>\n",
              "      <td>9.25</td>\n",
              "      <td>49.0</td>\n",
              "    </tr>\n",
              "    <tr>\n",
              "      <th>5</th>\n",
              "      <td>Vicky</td>\n",
              "      <td>1.00</td>\n",
              "      <td>3.0</td>\n",
              "    </tr>\n",
              "    <tr>\n",
              "      <th>6</th>\n",
              "      <td>Frederic</td>\n",
              "      <td>11.50</td>\n",
              "      <td>53.0</td>\n",
              "    </tr>\n",
              "    <tr>\n",
              "      <th>7</th>\n",
              "      <td>Jimmie</td>\n",
              "      <td>9.00</td>\n",
              "      <td>42.0</td>\n",
              "    </tr>\n",
              "    <tr>\n",
              "      <th>8</th>\n",
              "      <td>Rhonda</td>\n",
              "      <td>8.50</td>\n",
              "      <td>26.0</td>\n",
              "    </tr>\n",
              "    <tr>\n",
              "      <th>9</th>\n",
              "      <td>Giovanni</td>\n",
              "      <td>14.50</td>\n",
              "      <td>74.0</td>\n",
              "    </tr>\n",
              "    <tr>\n",
              "      <th>10</th>\n",
              "      <td>Francesca</td>\n",
              "      <td>15.50</td>\n",
              "      <td>82.0</td>\n",
              "    </tr>\n",
              "    <tr>\n",
              "      <th>11</th>\n",
              "      <td>Rajab</td>\n",
              "      <td>13.75</td>\n",
              "      <td>62.0</td>\n",
              "    </tr>\n",
              "    <tr>\n",
              "      <th>12</th>\n",
              "      <td>Naiyana</td>\n",
              "      <td>9.00</td>\n",
              "      <td>37.0</td>\n",
              "    </tr>\n",
              "    <tr>\n",
              "      <th>13</th>\n",
              "      <td>Kian</td>\n",
              "      <td>8.00</td>\n",
              "      <td>15.0</td>\n",
              "    </tr>\n",
              "    <tr>\n",
              "      <th>14</th>\n",
              "      <td>Jenny</td>\n",
              "      <td>15.50</td>\n",
              "      <td>70.0</td>\n",
              "    </tr>\n",
              "    <tr>\n",
              "      <th>15</th>\n",
              "      <td>Jakeem</td>\n",
              "      <td>8.00</td>\n",
              "      <td>27.0</td>\n",
              "    </tr>\n",
              "    <tr>\n",
              "      <th>16</th>\n",
              "      <td>Helena</td>\n",
              "      <td>9.00</td>\n",
              "      <td>36.0</td>\n",
              "    </tr>\n",
              "    <tr>\n",
              "      <th>17</th>\n",
              "      <td>Ismat</td>\n",
              "      <td>6.00</td>\n",
              "      <td>35.0</td>\n",
              "    </tr>\n",
              "    <tr>\n",
              "      <th>18</th>\n",
              "      <td>Anila</td>\n",
              "      <td>10.00</td>\n",
              "      <td>48.0</td>\n",
              "    </tr>\n",
              "    <tr>\n",
              "      <th>19</th>\n",
              "      <td>Skye</td>\n",
              "      <td>12.00</td>\n",
              "      <td>52.0</td>\n",
              "    </tr>\n",
              "    <tr>\n",
              "      <th>20</th>\n",
              "      <td>Daniel</td>\n",
              "      <td>12.50</td>\n",
              "      <td>63.0</td>\n",
              "    </tr>\n",
              "    <tr>\n",
              "      <th>21</th>\n",
              "      <td>Aisha</td>\n",
              "      <td>12.00</td>\n",
              "      <td>64.0</td>\n",
              "    </tr>\n",
              "  </tbody>\n",
              "</table>\n",
              "</div>\n",
              "      <button class=\"colab-df-convert\" onclick=\"convertToInteractive('df-44f1eb80-3ca2-493f-828a-73fe59c17c1b')\"\n",
              "              title=\"Convert this dataframe to an interactive table.\"\n",
              "              style=\"display:none;\">\n",
              "        \n",
              "  <svg xmlns=\"http://www.w3.org/2000/svg\" height=\"24px\"viewBox=\"0 0 24 24\"\n",
              "       width=\"24px\">\n",
              "    <path d=\"M0 0h24v24H0V0z\" fill=\"none\"/>\n",
              "    <path d=\"M18.56 5.44l.94 2.06.94-2.06 2.06-.94-2.06-.94-.94-2.06-.94 2.06-2.06.94zm-11 1L8.5 8.5l.94-2.06 2.06-.94-2.06-.94L8.5 2.5l-.94 2.06-2.06.94zm10 10l.94 2.06.94-2.06 2.06-.94-2.06-.94-.94-2.06-.94 2.06-2.06.94z\"/><path d=\"M17.41 7.96l-1.37-1.37c-.4-.4-.92-.59-1.43-.59-.52 0-1.04.2-1.43.59L10.3 9.45l-7.72 7.72c-.78.78-.78 2.05 0 2.83L4 21.41c.39.39.9.59 1.41.59.51 0 1.02-.2 1.41-.59l7.78-7.78 2.81-2.81c.8-.78.8-2.07 0-2.86zM5.41 20L4 18.59l7.72-7.72 1.47 1.35L5.41 20z\"/>\n",
              "  </svg>\n",
              "      </button>\n",
              "      \n",
              "  <style>\n",
              "    .colab-df-container {\n",
              "      display:flex;\n",
              "      flex-wrap:wrap;\n",
              "      gap: 12px;\n",
              "    }\n",
              "\n",
              "    .colab-df-convert {\n",
              "      background-color: #E8F0FE;\n",
              "      border: none;\n",
              "      border-radius: 50%;\n",
              "      cursor: pointer;\n",
              "      display: none;\n",
              "      fill: #1967D2;\n",
              "      height: 32px;\n",
              "      padding: 0 0 0 0;\n",
              "      width: 32px;\n",
              "    }\n",
              "\n",
              "    .colab-df-convert:hover {\n",
              "      background-color: #E2EBFA;\n",
              "      box-shadow: 0px 1px 2px rgba(60, 64, 67, 0.3), 0px 1px 3px 1px rgba(60, 64, 67, 0.15);\n",
              "      fill: #174EA6;\n",
              "    }\n",
              "\n",
              "    [theme=dark] .colab-df-convert {\n",
              "      background-color: #3B4455;\n",
              "      fill: #D2E3FC;\n",
              "    }\n",
              "\n",
              "    [theme=dark] .colab-df-convert:hover {\n",
              "      background-color: #434B5C;\n",
              "      box-shadow: 0px 1px 3px 1px rgba(0, 0, 0, 0.15);\n",
              "      filter: drop-shadow(0px 1px 2px rgba(0, 0, 0, 0.3));\n",
              "      fill: #FFFFFF;\n",
              "    }\n",
              "  </style>\n",
              "\n",
              "      <script>\n",
              "        const buttonEl =\n",
              "          document.querySelector('#df-44f1eb80-3ca2-493f-828a-73fe59c17c1b button.colab-df-convert');\n",
              "        buttonEl.style.display =\n",
              "          google.colab.kernel.accessAllowed ? 'block' : 'none';\n",
              "\n",
              "        async function convertToInteractive(key) {\n",
              "          const element = document.querySelector('#df-44f1eb80-3ca2-493f-828a-73fe59c17c1b');\n",
              "          const dataTable =\n",
              "            await google.colab.kernel.invokeFunction('convertToInteractive',\n",
              "                                                     [key], {});\n",
              "          if (!dataTable) return;\n",
              "\n",
              "          const docLinkHtml = 'Like what you see? Visit the ' +\n",
              "            '<a target=\"_blank\" href=https://colab.research.google.com/notebooks/data_table.ipynb>data table notebook</a>'\n",
              "            + ' to learn more about interactive tables.';\n",
              "          element.innerHTML = '';\n",
              "          dataTable['output_type'] = 'display_data';\n",
              "          await google.colab.output.renderOutput(dataTable, element);\n",
              "          const docLink = document.createElement('div');\n",
              "          docLink.innerHTML = docLinkHtml;\n",
              "          element.appendChild(docLink);\n",
              "        }\n",
              "      </script>\n",
              "    </div>\n",
              "  </div>\n",
              "  "
            ]
          },
          "metadata": {},
          "execution_count": 6
        }
      ],
      "source": [
        "df_students = pd.DataFrame({'Name': ['Dan', 'Joann', 'Pedro', 'Rosie', 'Ethan', 'Vicky', 'Frederic', 'Jimmie',\n",
        "                                     'Rhonda', 'Giovanni', 'Francesca', 'Rajab', 'Naiyana', 'Kian', 'Jenny',\n",
        "                                     'Jakeem','Helena','Ismat','Anila','Skye','Daniel','Aisha'],\n",
        "                            'StudyHours':student_data[0],\n",
        "                            'Grade':student_data[1]})\n",
        "\n",
        "df_students"
      ]
    },
    {
      "cell_type": "markdown",
      "source": [
        "**loc[ ] method**"
      ],
      "metadata": {
        "id": "Pb-jWntIgGL_"
      }
    },
    {
      "cell_type": "code",
      "source": [
        "# retrive data for a specific index value\n",
        "print(df_students.loc[5])"
      ],
      "metadata": {
        "colab": {
          "base_uri": "https://localhost:8080/"
        },
        "id": "AXSl-5bMjfY5",
        "outputId": "07aaa924-4750-4f9d-b218-d9e2b21a2175"
      },
      "execution_count": 15,
      "outputs": [
        {
          "output_type": "stream",
          "name": "stdout",
          "text": [
            "Name          Vicky\n",
            "StudyHours      1.0\n",
            "Grade           3.0\n",
            "Name: 5, dtype: object\n"
          ]
        }
      ]
    },
    {
      "cell_type": "code",
      "source": [
        "# data of a range of index values\n",
        "print(df_students.loc[0:5])"
      ],
      "metadata": {
        "id": "Ev0ZKAiykiky",
        "colab": {
          "base_uri": "https://localhost:8080/"
        },
        "outputId": "b623bec6-fd98-49c5-db94-9f5e04100f82"
      },
      "execution_count": 17,
      "outputs": [
        {
          "output_type": "stream",
          "name": "stdout",
          "text": [
            "    Name  StudyHours  Grade\n",
            "0    Dan       10.00   50.0\n",
            "1  Joann       11.50   50.0\n",
            "2  Pedro        9.00   47.0\n",
            "3  Rosie       16.00   97.0\n",
            "4  Ethan        9.25   49.0\n",
            "5  Vicky        1.00    3.0\n"
          ]
        }
      ]
    }
  ]
}