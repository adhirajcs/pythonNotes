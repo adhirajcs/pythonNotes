{
  "nbformat": 4,
  "nbformat_minor": 0,
  "metadata": {
    "colab": {
      "provenance": [],
      "authorship_tag": "ABX9TyOcKWHJjzUBkxFl3i9fa7cc"
    },
    "kernelspec": {
      "name": "python3",
      "display_name": "Python 3"
    },
    "language_info": {
      "name": "python"
    }
  },
  "cells": [
    {
      "cell_type": "markdown",
      "source": [
        "## Author - Adhiraj Saha"
      ],
      "metadata": {
        "id": "5xAz8xQ6yUq2"
      }
    },
    {
      "cell_type": "markdown",
      "source": [
        "#### **Modes - **\n",
        "\n",
        "\n",
        "*1. r - to **read** a file(Default).* Returns error if the file doesn't exists.\n",
        "\n",
        "*2. w - to **write** a file.*\n",
        "\n",
        "*3. a - to **append**/add an existing file* or Creates a file if it doesn't exists.\n",
        "\n",
        "*4. x - to create and open it for writing.* Returns an error if the file exists.\n",
        "\n",
        "*5. b - **binary** mode.*\n",
        "\n",
        "*6. + - opens a disk file for updating.*"
      ],
      "metadata": {
        "id": "_93_-Srf0Nck"
      }
    },
    {
      "cell_type": "markdown",
      "source": [
        "### Opening a File"
      ],
      "metadata": {
        "id": "5Gm4jPG0y8ko"
      }
    },
    {
      "cell_type": "markdown",
      "source": [
        "**Write a file**"
      ],
      "metadata": {
        "id": "EivJxDsV4Yvl"
      }
    },
    {
      "cell_type": "code",
      "execution_count": 5,
      "metadata": {
        "id": "JuSeiM-bxqbX"
      },
      "outputs": [],
      "source": [
        "\"\"\"There are two ways to open a file\"\"\"\n",
        "# Way 1:\n",
        "\n",
        "fl = open(\"file1.txt\",'w')            # opening the file in writing mode\n",
        "for x in range(10):\n",
        "  fl.write(str(x))                    # this will write 0123456789 in the file\n",
        "\n",
        "fl.close()                            # closing the file\n",
        "\n",
        "# Output in file1.txt:\n",
        "# 0123456789"
      ]
    },
    {
      "cell_type": "code",
      "source": [
        "# Way 2: Using 'with' statement\n",
        "\n",
        "with open(\"file2.txt\",'w') as fl:\n",
        "  for x in range(6):\n",
        "    fl.write(str(x))\n",
        "    fl.write(\"\\n\")\n",
        "\n",
        "# Output in file2.txt:\n",
        "\"\"\"\n",
        "0\n",
        "1\n",
        "2\n",
        "3\n",
        "4\n",
        "5\n",
        "\"\"\""
      ],
      "metadata": {
        "colab": {
          "base_uri": "https://localhost:8080/",
          "height": 35
        },
        "id": "oNUnG9-Q2-fE",
        "outputId": "51e1bf46-701c-408f-90a5-6d5aece28f3b"
      },
      "execution_count": 6,
      "outputs": [
        {
          "output_type": "execute_result",
          "data": {
            "text/plain": [
              "'\\n0\\n1\\n2\\n3\\n4\\n5\\n'"
            ],
            "application/vnd.google.colaboratory.intrinsic+json": {
              "type": "string"
            }
          },
          "metadata": {},
          "execution_count": 6
        }
      ]
    },
    {
      "cell_type": "markdown",
      "source": [
        "**Read a file**"
      ],
      "metadata": {
        "id": "DethMZx54be8"
      }
    },
    {
      "cell_type": "code",
      "source": [
        "''' as the line read has a newline at the \n",
        "    end of it and also print() provides a new line,\n",
        "    there will a extra one line after each line '''\n",
        "\n",
        "with open(\"file2.txt\",'r') as fl:\n",
        "  for x in fl:\n",
        "    print(x.strip())                    # using strip() method to get rid of\n",
        "                                        # those extra newline "
      ],
      "metadata": {
        "colab": {
          "base_uri": "https://localhost:8080/"
        },
        "id": "Tu2nuLAC4ddO",
        "outputId": "af397f87-3c65-4c89-85f1-f59a03598ef4"
      },
      "execution_count": 7,
      "outputs": [
        {
          "output_type": "stream",
          "name": "stdout",
          "text": [
            "0\n",
            "1\n",
            "2\n",
            "3\n",
            "4\n",
            "5\n"
          ]
        }
      ]
    },
    {
      "cell_type": "code",
      "source": [
        "# using read() method\n",
        "\n",
        "''' read(n) -> this reads and returns a string of n characters\n",
        "    or the entire file as a single string if n is not mentioned '''\n",
        "\n",
        "with open(\"file2.txt\",'r') as fl:\n",
        "  x = fl.read()\n",
        "\n",
        "print(type(x))\n",
        "print(x)"
      ],
      "metadata": {
        "colab": {
          "base_uri": "https://localhost:8080/"
        },
        "id": "DgDUE-fz5fdM",
        "outputId": "9bf1899e-64e6-4a6f-acab-4398df684e43"
      },
      "execution_count": 8,
      "outputs": [
        {
          "output_type": "stream",
          "name": "stdout",
          "text": [
            "<class 'str'>\n",
            "0\n",
            "1\n",
            "2\n",
            "3\n",
            "4\n",
            "5\n",
            "\n"
          ]
        }
      ]
    },
    {
      "cell_type": "code",
      "source": [
        "# using readline() method\n",
        "''' readlines(n) -> reads the next line of the file including the newline\n",
        "    charaters. If n is provided as a parameter, then only n characters will\n",
        "    returned if the line is longer than n '''\n",
        "\n",
        "with open(\"file2.txt\", 'r') as fl:\n",
        "  x = fl.readline()\n",
        "  y = fl.readline()\n",
        "  z = fl.readline()\n",
        "\n",
        "print(x)\n",
        "print(y)\n",
        "print(z)"
      ],
      "metadata": {
        "colab": {
          "base_uri": "https://localhost:8080/"
        },
        "id": "7mWEOInw63Bj",
        "outputId": "004d7c35-25d3-4135-f4d2-e8d4b2430048"
      },
      "execution_count": 9,
      "outputs": [
        {
          "output_type": "stream",
          "name": "stdout",
          "text": [
            "0\n",
            "\n",
            "1\n",
            "\n",
            "2\n",
            "\n"
          ]
        }
      ]
    },
    {
      "cell_type": "code",
      "source": [
        "# using readlines() method\n",
        "''' readlines(n) -> returns a list of strings, each representing a single line.\n",
        "    If n is not provided then all the lines are returned and\n",
        "    If n is provided then n number of lines are returned'''\n",
        "\n",
        "with open(\"file2.txt\",'r') as fl:\n",
        "  x = fl.readlines()\n",
        "\n",
        "print(type(x))\n",
        "print(x)"
      ],
      "metadata": {
        "colab": {
          "base_uri": "https://localhost:8080/"
        },
        "id": "XaB5vEm67-6D",
        "outputId": "4d40cdb9-ddb7-4060-b7ca-332103eb4e7a"
      },
      "execution_count": 10,
      "outputs": [
        {
          "output_type": "stream",
          "name": "stdout",
          "text": [
            "<class 'list'>\n",
            "['0\\n', '1\\n', '2\\n', '3\\n', '4\\n', '5\\n']\n"
          ]
        }
      ]
    },
    {
      "cell_type": "markdown",
      "source": [
        "### Deleting a file"
      ],
      "metadata": {
        "id": "3LKQeVsO9YSi"
      }
    },
    {
      "cell_type": "code",
      "source": [
        "# to delete a file, we need to import os module \n",
        "# and use os.remove() method\n",
        "\n",
        "import os\n",
        "\n",
        "if os.path.exists(\"file1.txt\"):\n",
        "  os.remove(\"file1.txt\")\n",
        "else:\n",
        "  print(\"File doesn't exist!!!\")\n",
        "\n",
        "# file got deleted from the location"
      ],
      "metadata": {
        "id": "d8oGolg59C_T"
      },
      "execution_count": 11,
      "outputs": []
    },
    {
      "cell_type": "markdown",
      "source": [
        "### json and pickle package"
      ],
      "metadata": {
        "id": "KSFh7tg9-OTa"
      }
    },
    {
      "cell_type": "markdown",
      "source": [
        "**json**"
      ],
      "metadata": {
        "id": "hYRlRPFMA-Jy"
      }
    },
    {
      "cell_type": "code",
      "source": [
        "# writing a dictionary to a file using json\n",
        "import json\n",
        "\n",
        "x = dict(name=\"Adhiraj\", roll=13, marks=96)\n",
        "\n",
        "with open(\"file3.txt\",'w') as fl:\n",
        "  json.dump(x,fl)                                 # using dump() to write"
      ],
      "metadata": {
        "id": "ipkbvAJS_nOC"
      },
      "execution_count": 12,
      "outputs": []
    },
    {
      "cell_type": "code",
      "source": [
        "# reading a file using json\n",
        "\n",
        "with open(\"file3.txt\",'r') as fl:\n",
        "  x = json.load(fl)\n",
        "\n",
        "print(type(x))\n",
        "print(x)"
      ],
      "metadata": {
        "colab": {
          "base_uri": "https://localhost:8080/"
        },
        "id": "b2GdKCSLAUhT",
        "outputId": "5630f561-6015-421b-8e34-0ec0fb94f7a8"
      },
      "execution_count": 13,
      "outputs": [
        {
          "output_type": "stream",
          "name": "stdout",
          "text": [
            "<class 'dict'>\n",
            "{'name': 'Adhiraj', 'roll': 13, 'marks': 96}\n"
          ]
        }
      ]
    },
    {
      "cell_type": "markdown",
      "source": [
        "**pickle**"
      ],
      "metadata": {
        "id": "JeM3ckbBA_-p"
      }
    },
    {
      "cell_type": "code",
      "source": [
        "''' “Pickling” is the process whereby a Python object hierarchy\n",
        "  is converted into a byte stream,\n",
        "  and “unpickling” is the inverse operation,\n",
        "  whereby a byte stream (from a binary file or bytes-like object)\n",
        "  is converted back into an object hierarchy '''\n",
        "\n",
        "# writing a dictionary to a file using pickle\n",
        "import pickle\n",
        "\n",
        "x = dict(name=\"Adhiraj\", roll=13, marks=96)\n",
        "\n",
        "with open(\"file4.txt\",'wb') as fl:\n",
        "  pickle.dump(x,fl)"
      ],
      "metadata": {
        "id": "HjdvjgkpBBmr"
      },
      "execution_count": 14,
      "outputs": []
    },
    {
      "cell_type": "markdown",
      "source": [
        "### Some Other Methods"
      ],
      "metadata": {
        "id": "-6xtHChp31Mq"
      }
    },
    {
      "cell_type": "code",
      "source": [
        "# tell()\n",
        "with open(\"file3.txt\") as fl:\n",
        "  print(fl.tell())\n",
        "  print(fl.read(7))\n",
        "  print(fl.tell())                        # returns the current file position\n",
        "                                          # in a file stream"
      ],
      "metadata": {
        "colab": {
          "base_uri": "https://localhost:8080/"
        },
        "id": "nUcBWpsN4CEk",
        "outputId": "620b69b6-c9d3-4fa6-dc16-4698ca700f24"
      },
      "execution_count": 18,
      "outputs": [
        {
          "output_type": "stream",
          "name": "stdout",
          "text": [
            "0\n",
            "{\"name\"\n",
            "7\n"
          ]
        }
      ]
    },
    {
      "cell_type": "code",
      "source": [
        "# seek()\n",
        "with open(\"file3.txt\") as fl:\n",
        "  print(fl.seek(8))                       # sets the current file position in a\n",
        "  print(fl.readline())                    # file stream and also returns the\n",
        "                                          # new position"
      ],
      "metadata": {
        "colab": {
          "base_uri": "https://localhost:8080/"
        },
        "id": "Sb7lfA3w4syg",
        "outputId": "5ea4bc72-f3b8-4563-c096-7dd276b7a67b"
      },
      "execution_count": 21,
      "outputs": [
        {
          "output_type": "stream",
          "name": "stdout",
          "text": [
            "8\n",
            " \"Adhiraj\", \"roll\": 13, \"marks\": 96}\n"
          ]
        }
      ]
    }
  ]
}