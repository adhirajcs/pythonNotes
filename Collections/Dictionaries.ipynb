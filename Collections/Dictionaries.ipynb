{
  "nbformat": 4,
  "nbformat_minor": 0,
  "metadata": {
    "colab": {
      "provenance": [],
      "authorship_tag": "ABX9TyOVqnLqCjiHQl1lt2W7QL1y"
    },
    "kernelspec": {
      "name": "python3",
      "display_name": "Python 3"
    },
    "language_info": {
      "name": "python"
    }
  },
  "cells": [
    {
      "cell_type": "markdown",
      "source": [
        "## Author - Adhiraj Saha"
      ],
      "metadata": {
        "id": "HmLw04ByfTSH"
      }
    },
    {
      "cell_type": "markdown",
      "source": [
        "### Dictionaries are **ordered**, **mutable** and ***does not allow dupplicates***. (since Python 3.7)"
      ],
      "metadata": {
        "id": "cNAShqFifYam"
      }
    },
    {
      "cell_type": "code",
      "source": [
        "# dict() constructor\n",
        "dic = dict(name=\"adhi\", roll=13, age=22)\n",
        "print(type(dic))\n",
        "print(dic)"
      ],
      "metadata": {
        "colab": {
          "base_uri": "https://localhost:8080/"
        },
        "id": "TgaA9Jd5u1R7",
        "outputId": "7d7ade31-beae-406a-da1e-24130a9a163b"
      },
      "execution_count": 19,
      "outputs": [
        {
          "output_type": "stream",
          "name": "stdout",
          "text": [
            "<class 'dict'>\n",
            "{'name': 'adhi', 'roll': 13, 'age': 22}\n"
          ]
        }
      ]
    },
    {
      "cell_type": "code",
      "execution_count": 18,
      "metadata": {
        "id": "Cmdn9eO4fRSZ",
        "colab": {
          "base_uri": "https://localhost:8080/"
        },
        "outputId": "38dc67b2-5f1c-4202-9bac-cff882df8591"
      },
      "outputs": [
        {
          "output_type": "stream",
          "name": "stdout",
          "text": [
            "val2\n",
            "{1: 'val1', 2: 'val2', 3: 'val3', 4: 'val4', 5: 'val5'}\n",
            "{1: 'val1', 2: 'val2', 3: 'valnot3', 4: 'val4', 5: 'val5'}\n",
            "{1: 'val1', 2: 'val2', 3: 'valnot3', 4: 'val4'}\n"
          ]
        }
      ],
      "source": [
        "dict1 = {1: \"val1\", 2: \"val2\", 3: \"val3\", 4: \"val4\"}\n",
        "\n",
        "print(dict1[2])                         # accessing values of an item by its key\n",
        "\n",
        "\n",
        "dict1[5] = \"val5\"                       # adding elements to the dictionary\n",
        "print(dict1)\n",
        "\n",
        "dict1[3] = \"valnot3\"                    # updating the value of a already\n",
        "print(dict1)                            # existed key\n",
        "\n",
        "del dict1[5]                            # deleting a specific key:value pair\n",
        "print(dict1)"
      ]
    },
    {
      "cell_type": "markdown",
      "source": [
        "**Traversing a dictionary**"
      ],
      "metadata": {
        "id": "z_Q2qU-1v9BK"
      }
    },
    {
      "cell_type": "code",
      "source": [
        "myDict = dict(name=\"adhi\", roll=13, age=22)\n",
        "\n",
        "for x in myDict:\n",
        "  print(x)                              # here the values are the keys only\n",
        "\n",
        "for x in myDict:\n",
        "  print(x, myDict[x])"
      ],
      "metadata": {
        "colab": {
          "base_uri": "https://localhost:8080/"
        },
        "id": "UHKv7OJ-wB5h",
        "outputId": "d3e1f362-1eff-4836-eb04-065552135389"
      },
      "execution_count": 11,
      "outputs": [
        {
          "output_type": "stream",
          "name": "stdout",
          "text": [
            "name\n",
            "roll\n",
            "age\n",
            "name adhi\n",
            "roll 13\n",
            "age 22\n"
          ]
        }
      ]
    },
    {
      "cell_type": "markdown",
      "source": [
        "### Dictionary Methods"
      ],
      "metadata": {
        "id": "4eO2FcUC1WGW"
      }
    },
    {
      "cell_type": "markdown",
      "source": [
        "len, get, items, keys, values, update, pop, popitem, clear methods"
      ],
      "metadata": {
        "id": "lz4qek2m3Eq7"
      }
    },
    {
      "cell_type": "code",
      "source": [
        "d1 = {1: \"v1\", 2: \"v2\", 3: \"v3\", 4: \"v4\"}\n",
        "\n",
        "# len () method\n",
        "print(len(d1))                                    # returns the length of the\n",
        "                                                  # dictionary\n",
        "# get() method\n",
        "print(d1.get(3))                                  # returns the value of the specific key\n",
        "\n",
        "# items() method\n",
        "print(d1.items())                                 # returns a list containing the\n",
        "                                                  # key-value pairs\n",
        "# keys() method\n",
        "print(d1.keys())                                  # returns a list of keys\n",
        "\n",
        "# values() method\n",
        "print(d1.values())                                # returns a list of values\n",
        "\n",
        "# update() method\n",
        "d1.update({5: \"val5\", 6: \"val6\", 7: \"val7\"})      # updates the dictionary\n",
        "print(d1)                                         # with specified key-value pairs\n",
        "\n",
        "# pop() method\n",
        "print(d1.pop(6))                                  # removes the specified item\n",
        "                                                  # and returns it\n",
        "\n",
        "# popitem() method\n",
        "print(d1.popitem())                               # removes the last item\n",
        "                                                  # and returns it\n",
        "\n",
        "#clear() method\n",
        "d1.clear()                                        # removes all the elements\n",
        "print(d1)"
      ],
      "metadata": {
        "colab": {
          "base_uri": "https://localhost:8080/"
        },
        "id": "Pw5zR-Po1aZl",
        "outputId": "3736fa71-4b1d-41bd-e072-ca2912f31b14"
      },
      "execution_count": 17,
      "outputs": [
        {
          "output_type": "stream",
          "name": "stdout",
          "text": [
            "4\n",
            "v3\n",
            "dict_items([(1, 'v1'), (2, 'v2'), (3, 'v3'), (4, 'v4')])\n",
            "dict_keys([1, 2, 3, 4])\n",
            "dict_values(['v1', 'v2', 'v3', 'v4'])\n",
            "{1: 'v1', 2: 'v2', 3: 'v3', 4: 'v4', 5: 'val5', 6: 'val6', 7: 'val7'}\n",
            "val6\n",
            "(7, 'val7')\n",
            "{}\n"
          ]
        }
      ]
    },
    {
      "cell_type": "markdown",
      "source": [
        "### Frequency of Charaters in a string using Dictionary"
      ],
      "metadata": {
        "id": "4v6fwXPMyF_r"
      }
    },
    {
      "cell_type": "code",
      "source": [
        "st = \"Students of MCA\"\n",
        "d = dict()\n",
        "\n",
        "for char in st:\n",
        "  if char not in d:\n",
        "    d[char] = 1\n",
        "  else:\n",
        "    d[char]+=1\n",
        "print(d)"
      ],
      "metadata": {
        "colab": {
          "base_uri": "https://localhost:8080/"
        },
        "id": "n0_bbok0yObS",
        "outputId": "63fbc841-e598-462b-94d8-2c5961b0cfff"
      },
      "execution_count": 20,
      "outputs": [
        {
          "output_type": "stream",
          "name": "stdout",
          "text": [
            "{'S': 1, 't': 2, 'u': 1, 'd': 1, 'e': 1, 'n': 1, 's': 1, ' ': 2, 'o': 1, 'f': 1, 'M': 1, 'C': 1, 'A': 1}\n"
          ]
        }
      ]
    }
  ]
}
