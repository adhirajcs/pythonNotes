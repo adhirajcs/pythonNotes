{
  "nbformat": 4,
  "nbformat_minor": 0,
  "metadata": {
    "colab": {
      "provenance": [],
      "authorship_tag": "ABX9TyOmg1EnPTzvi3mjiK992jR0"
    },
    "kernelspec": {
      "name": "python3",
      "display_name": "Python 3"
    },
    "language_info": {
      "name": "python"
    }
  },
  "cells": [
    {
      "cell_type": "markdown",
      "source": [
        "## Author - Adhiraj Saha"
      ],
      "metadata": {
        "id": "HmLw04ByfTSH"
      }
    },
    {
      "cell_type": "markdown",
      "source": [
        "### Dictionaries are **ordered**, **mutable** and **does not allow dupplicates**."
      ],
      "metadata": {
        "id": "cNAShqFifYam"
      }
    },
    {
      "cell_type": "code",
      "execution_count": 11,
      "metadata": {
        "id": "Cmdn9eO4fRSZ",
        "colab": {
          "base_uri": "https://localhost:8080/"
        },
        "outputId": "82721a32-678f-4bdb-d807-62e3df42fddf"
      },
      "outputs": [
        {
          "output_type": "stream",
          "name": "stdout",
          "text": [
            "{1: 'val1', 2: 'val2', 3: 'val3', 4: 'val4', 5: 'val5'}\n",
            "{1: 'val1', 2: 'val2', 3: 'valnot3', 4: 'val4', 5: 'val5'}\n",
            "{1: 'val1', 2: 'val2', 3: 'valnot3', 4: 'val4'}\n"
          ]
        }
      ],
      "source": [
        "dict1 = {1: \"val1\", 2: \"val2\", 3: \"val3\", 4: \"val4\"}\n",
        "\n",
        "dict1[5] = \"val5\"                       # adding elements to the dictionary\n",
        "print(dict1)\n",
        "\n",
        "dict1[3] = \"valnot3\"                    # updating the value of a already\n",
        "print(dict1)                            # existed key\n",
        "\n",
        "del dict1[5]                            # deleting a specific key:value pair\n",
        "print(dict1)"
      ]
    },
    {
      "cell_type": "markdown",
      "source": [
        "### Dictionary Methods"
      ],
      "metadata": {
        "id": "4eO2FcUC1WGW"
      }
    },
    {
      "cell_type": "markdown",
      "source": [
        "len, get, items, keys, values, update, clear methods"
      ],
      "metadata": {
        "id": "lz4qek2m3Eq7"
      }
    },
    {
      "cell_type": "code",
      "source": [
        "d1 = {1: \"v1\", 2: \"v2\", 3: \"v3\", 4: \"v4\"}\n",
        "\n",
        "#len () method\n",
        "print(len(d1))                                    # returns the length of the\n",
        "                                                  # dictionary\n",
        "# get() method\n",
        "print(d1.get(3))                                  # returns the value of the specific key\n",
        "\n",
        "# items() method\n",
        "print(d1.items())                                 # returns a list containing the\n",
        "                                                  # key-value pairs\n",
        "# keys() method\n",
        "print(d1.keys())                                  # returns a list of keys\n",
        "\n",
        "# values() method\n",
        "print(d1.values())                                # returns a list of values\n",
        "\n",
        "# update() method\n",
        "d1.update({5: \"val5\", 6: \"val6\", 7: \"val7\"})      # updates the dictionary\n",
        "print(d1)                                         # with specified key-value pairs\n",
        "\n",
        "#clear() method\n",
        "d1.clear()                                        # removes all the elements\n",
        "print(d1)"
      ],
      "metadata": {
        "colab": {
          "base_uri": "https://localhost:8080/"
        },
        "id": "Pw5zR-Po1aZl",
        "outputId": "c07aeb62-1c23-4763-930a-9f2402380ac3"
      },
      "execution_count": 13,
      "outputs": [
        {
          "output_type": "stream",
          "name": "stdout",
          "text": [
            "4\n",
            "v3\n",
            "dict_items([(1, 'v1'), (2, 'v2'), (3, 'v3'), (4, 'v4')])\n",
            "dict_keys([1, 2, 3, 4])\n",
            "dict_values(['v1', 'v2', 'v3', 'v4'])\n",
            "{1: 'v1', 2: 'v2', 3: 'v3', 4: 'v4', 5: 'val5', 6: 'val6', 7: 'val7'}\n",
            "{}\n"
          ]
        }
      ]
    }
  ]
}
