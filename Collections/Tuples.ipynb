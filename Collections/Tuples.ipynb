{
  "nbformat": 4,
  "nbformat_minor": 0,
  "metadata": {
    "colab": {
      "provenance": [],
      "authorship_tag": "ABX9TyPfpMBWpVu9veucl/HnFUrC"
    },
    "kernelspec": {
      "name": "python3",
      "display_name": "Python 3"
    },
    "language_info": {
      "name": "python"
    }
  },
  "cells": [
    {
      "cell_type": "markdown",
      "source": [
        "## Author - Adhiraj Saha"
      ],
      "metadata": {
        "id": "Nv1PfvR0KWps"
      }
    },
    {
      "cell_type": "markdown",
      "source": [
        "### Tuples are ***ordered***, **indexed**, **immutable** and **allows duplicate values**."
      ],
      "metadata": {
        "id": "HbjbNEexKa3F"
      }
    },
    {
      "cell_type": "code",
      "source": [
        "# tuple() constructor\n",
        "\n",
        "mytuple = tuple()\n",
        "print(mytuple)\n",
        "print(type(mytuple))\n",
        "\n",
        "print(True) if isinstance(mytuple,tuple) else print(False) "
      ],
      "metadata": {
        "colab": {
          "base_uri": "https://localhost:8080/"
        },
        "id": "NdVIS_zhExrQ",
        "outputId": "bedd9672-1723-43c8-ee19-857ccc963d28"
      },
      "execution_count": 4,
      "outputs": [
        {
          "output_type": "stream",
          "name": "stdout",
          "text": [
            "()\n",
            "<class 'tuple'>\n",
            "True\n"
          ]
        }
      ]
    },
    {
      "cell_type": "code",
      "source": [
        "# tuples are immutable so once a tuple is created, its individual values\n",
        "# cannot be changed or modified\n",
        "# Workaround 1: replace one with another tuple\n",
        "tup = (1,2,3,4)\n",
        "tup = (0,) + tup[1:]\n",
        "print(tup); print()\n",
        "\n",
        "# Workaround 2: covert it to a list, modify the list\n",
        "# and then convert the list back to a tuple\n",
        "\n",
        "tup1 = (1,2,3,4); print(tup1, type(tup1))\n",
        "li = list(tup1)\n",
        "li[0] = 0; print(li, type(li))\n",
        "tup2  = tuple(li); print(tup2, type(tup2))"
      ],
      "metadata": {
        "colab": {
          "base_uri": "https://localhost:8080/"
        },
        "id": "Ym9wNXjNGODa",
        "outputId": "4085b2ef-c327-4ce7-d911-61745de4f453"
      },
      "execution_count": 17,
      "outputs": [
        {
          "output_type": "stream",
          "name": "stdout",
          "text": [
            "(0, 2, 3, 4)\n",
            "\n",
            "(1, 2, 3, 4) <class 'tuple'>\n",
            "[0, 2, 3, 4] <class 'list'>\n",
            "(0, 2, 3, 4) <class 'tuple'>\n"
          ]
        }
      ]
    },
    {
      "cell_type": "markdown",
      "source": [
        "**Unpacking a tuple**"
      ],
      "metadata": {
        "id": "QB_E95IDISl_"
      }
    },
    {
      "cell_type": "code",
      "source": [
        "tup = (\"MCA\", \"HITK\", 2022)\n",
        "(degree, college, year) = tup\n",
        "print(degree,college,year)"
      ],
      "metadata": {
        "colab": {
          "base_uri": "https://localhost:8080/"
        },
        "id": "maojkQrCIVxO",
        "outputId": "38f5e694-23ba-4f93-cc85-2109b373b92f"
      },
      "execution_count": 19,
      "outputs": [
        {
          "output_type": "stream",
          "name": "stdout",
          "text": [
            "MCA HITK 2022\n"
          ]
        }
      ]
    },
    {
      "cell_type": "markdown",
      "source": [
        "**count(), index() methods**"
      ],
      "metadata": {
        "id": "6WUYZagILE_y"
      }
    },
    {
      "cell_type": "code",
      "execution_count": 3,
      "metadata": {
        "colab": {
          "base_uri": "https://localhost:8080/"
        },
        "id": "60PSGwTTKPoL",
        "outputId": "78fdb398-29d9-4927-f873-a8ecdbb5307a"
      },
      "outputs": [
        {
          "output_type": "stream",
          "name": "stdout",
          "text": [
            "3\n",
            "2\n"
          ]
        }
      ],
      "source": [
        "tup = (1,2,3,4,5,4,7,4)\n",
        "\n",
        "# count() method\n",
        "print(tup.count(4))           # returns the number of occurences of the\n",
        "                              # specified value in the tuple\n",
        "\n",
        "# index() method\n",
        "print(tup.index(3))           # searches the index number of the specified\n",
        "                              # value and returns its position"
      ]
    }
  ]
}
