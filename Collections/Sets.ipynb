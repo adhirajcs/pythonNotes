{
  "nbformat": 4,
  "nbformat_minor": 0,
  "metadata": {
    "colab": {
      "provenance": [],
      "authorship_tag": "ABX9TyNY9j0jqQCg3a0KpeTGDolW"
    },
    "kernelspec": {
      "name": "python3",
      "display_name": "Python 3"
    },
    "language_info": {
      "name": "python"
    }
  },
  "cells": [
    {
      "cell_type": "markdown",
      "source": [
        "## Author - Adhiraj Saha"
      ],
      "metadata": {
        "id": "DGf0gXf7PsGa"
      }
    },
    {
      "cell_type": "markdown",
      "source": [
        "### Sets are **unordered**, **non-indexed**, **immutable**.\n",
        "\n",
        "### *Sets do not allow duplicate values.*"
      ],
      "metadata": {
        "id": "Q19vk2_kPwBZ"
      }
    },
    {
      "cell_type": "code",
      "execution_count": 2,
      "metadata": {
        "colab": {
          "base_uri": "https://localhost:8080/"
        },
        "id": "HDZLSJOWPgKW",
        "outputId": "bced21f1-763b-4825-fdb3-9b702f014f1a"
      },
      "outputs": [
        {
          "output_type": "stream",
          "name": "stdout",
          "text": [
            "{1, 2, 3, 4, 5, 6, 7, 8}\n"
          ]
        }
      ],
      "source": [
        "s = {1,2,3,4,4,5,6,7,8}\n",
        "print(s)"
      ]
    },
    {
      "cell_type": "code",
      "source": [
        "# set() constructor\n",
        "mysett = set((1,2,3,4,5))\n",
        "print(mysett, type(mysett))"
      ],
      "metadata": {
        "colab": {
          "base_uri": "https://localhost:8080/"
        },
        "id": "12ZY6Dsj5wU3",
        "outputId": "4f28e756-e252-429d-a480-a59e62440bb1"
      },
      "execution_count": 3,
      "outputs": [
        {
          "output_type": "stream",
          "name": "stdout",
          "text": [
            "{1, 2, 3, 4, 5} <class 'set'>\n"
          ]
        }
      ]
    },
    {
      "cell_type": "markdown",
      "source": [
        "**add, discard, clear methods**"
      ],
      "metadata": {
        "id": "J-qB4b3gQwgK"
      }
    },
    {
      "cell_type": "code",
      "source": [
        "s = {1,2,3,4,5,6,7,8}\n",
        "# add() method\n",
        "s.add(9)                       # adds an element at the end\n",
        "print(s)\n",
        "\n",
        "# dicard() method\n",
        "s.discard(5)                   # removes the specified element from the set\n",
        "print(s)\n",
        "\n",
        "# clear() method\n",
        "s.clear()                      # removes all the elements from the set\n",
        "print(s)"
      ],
      "metadata": {
        "colab": {
          "base_uri": "https://localhost:8080/"
        },
        "id": "6rAhOzLbQ45T",
        "outputId": "7ccbee1b-47d6-4b66-9324-666026c11800"
      },
      "execution_count": 4,
      "outputs": [
        {
          "output_type": "stream",
          "name": "stdout",
          "text": [
            "{1, 2, 3, 4, 5, 6, 7, 8, 9}\n",
            "{1, 2, 3, 4, 6, 7, 8, 9}\n",
            "set()\n"
          ]
        }
      ]
    },
    {
      "cell_type": "markdown",
      "source": [
        "**intersection, union, issubset, pop, remove methods.**"
      ],
      "metadata": {
        "id": "F6jRd8EMUdIK"
      }
    },
    {
      "cell_type": "code",
      "source": [
        "set1 = {1,2,3,4,5,6,7,8,9,10}\n",
        "set2 = {5,6,7,8,9,10,11,12,13,14,15}\n",
        "\n",
        "# intersection() method\n",
        "print(set.intersection(set1,set2))          # returns intersection of\n",
        "                                            # two or more sets\n",
        "\n",
        "# union() method\n",
        "print(set.union(set1,set2))                 # returns union of\n",
        "                                            # two or more sets\n",
        "\n",
        "# issubset() method\n",
        "print(set1.issubset(set2))                  # checks if a set is a subset of\n",
        "                                            # another set or not\n",
        "subSet1 = {4,5,6,7}\n",
        "print(subSet1.issubset(set1))\n",
        "\n",
        "# pop() method\n",
        "print(set2.pop())                           # removes an element from the\n",
        "print(set2)                                 # beginning of the set\n",
        "\n",
        "# remove() method\n",
        "set2.remove(15)                             # removes an specific element\n",
        "print(set2)"
      ],
      "metadata": {
        "colab": {
          "base_uri": "https://localhost:8080/"
        },
        "id": "55Fpu3RqUbMg",
        "outputId": "9dfa950b-de2e-4525-92ac-b87b5b44eeb4"
      },
      "execution_count": null,
      "outputs": [
        {
          "output_type": "stream",
          "name": "stdout",
          "text": [
            "{5, 6, 7, 8, 9, 10}\n",
            "{1, 2, 3, 4, 5, 6, 7, 8, 9, 10, 11, 12, 13, 14, 15}\n",
            "False\n",
            "True\n",
            "5\n",
            "{6, 7, 8, 9, 10, 11, 12, 13, 14, 15}\n",
            "{6, 7, 8, 9, 10, 11, 12, 13, 14}\n"
          ]
        }
      ]
    },
    {
      "cell_type": "markdown",
      "source": [
        "**difference, symmetric_difference, symmetric_difference_update methods**"
      ],
      "metadata": {
        "id": "_O8h8qVU8mo0"
      }
    },
    {
      "cell_type": "code",
      "source": [
        "# differnce()\n",
        "# contains the items that exists only in 1st set and not in 2nd sets\n",
        "\n",
        "set1 = {1,2,3,4,5,6,7,8}\n",
        "set2 = {5,6,7,8,9,10}\n",
        "\n",
        "print(\"Diff b/w 1 and 2:\",set1.difference(set2))\n",
        "print(\"Diff b/w 2 and 1:\",set2.difference(set1))\n",
        "\n",
        "\n",
        "# symmetric_difference()\n",
        "# returns only the items that are not present in both sets\n",
        "print(set1.symmetric_difference(set2))\n",
        "\n",
        "\n",
        "# symmetric_difference_update()\n",
        "# updates the 1st set by removing the common items and\n",
        "# adding the rest of the items of the 2nd set\n",
        "\n",
        "setA = {\"apple\",\"google\",\"microsoft\",\"amazon\"}\n",
        "setB = {\"Alphabet\", \"Netflix\", \"Flipkart\", \"apple\"}\n",
        "\n",
        "setA.symmetric_difference_update(setB)\n",
        "print(setA)"
      ],
      "metadata": {
        "colab": {
          "base_uri": "https://localhost:8080/"
        },
        "id": "QbfH2i1V8vND",
        "outputId": "bf01e616-a0df-4a18-b45f-84814c65e0de"
      },
      "execution_count": 14,
      "outputs": [
        {
          "output_type": "stream",
          "name": "stdout",
          "text": [
            "Diff b/w 1 and 2: {1, 2, 3, 4}\n",
            "Diff b/w 2 and 1: {9, 10}\n",
            "{1, 2, 3, 4, 9, 10}\n",
            "{'Alphabet', 'Flipkart', 'google', 'amazon', 'microsoft', 'Netflix'}\n"
          ]
        }
      ]
    }
  ]
}
