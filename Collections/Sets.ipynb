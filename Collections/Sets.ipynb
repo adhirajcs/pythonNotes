{
  "nbformat": 4,
  "nbformat_minor": 0,
  "metadata": {
    "colab": {
      "provenance": [],
      "authorship_tag": "ABX9TyMbNJ449DPeCFHzFFscBMCe"
    },
    "kernelspec": {
      "name": "python3",
      "display_name": "Python 3"
    },
    "language_info": {
      "name": "python"
    }
  },
  "cells": [
    {
      "cell_type": "markdown",
      "source": [
        "# Author - Adhiraj Saha"
      ],
      "metadata": {
        "id": "DGf0gXf7PsGa"
      }
    },
    {
      "cell_type": "markdown",
      "source": [
        "Sets are **unordered**, **non-indexed**, **immutable**.\n",
        "\n",
        "*Duplicates Elements are not allowed in Sets.*"
      ],
      "metadata": {
        "id": "Q19vk2_kPwBZ"
      }
    },
    {
      "cell_type": "code",
      "execution_count": 9,
      "metadata": {
        "colab": {
          "base_uri": "https://localhost:8080/"
        },
        "id": "HDZLSJOWPgKW",
        "outputId": "27807705-7413-4277-fe45-ea303ce06011"
      },
      "outputs": [
        {
          "output_type": "stream",
          "name": "stdout",
          "text": [
            "{1, 2, 3, 4, 5, 6, 7, 8}\n"
          ]
        }
      ],
      "source": [
        "s = {1,2,3,4,4,5,6,7,8}\n",
        "print(s)"
      ]
    },
    {
      "cell_type": "markdown",
      "source": [
        "add, discard, clear methods"
      ],
      "metadata": {
        "id": "J-qB4b3gQwgK"
      }
    },
    {
      "cell_type": "code",
      "source": [
        "# add() method\n",
        "s.add(9)                       # adds an element at the end\n",
        "print(s)\n",
        "\n",
        "# dicard() method\n",
        "s.discard(5)                   # removes the specified element from the set\n",
        "print(s)\n",
        "\n",
        "# clear() method\n",
        "s.clear()                      # removes all the elements from the set\n",
        "print(s)"
      ],
      "metadata": {
        "colab": {
          "base_uri": "https://localhost:8080/"
        },
        "id": "6rAhOzLbQ45T",
        "outputId": "3309df91-a333-4d7a-ebfb-d93fcf2498fa"
      },
      "execution_count": 10,
      "outputs": [
        {
          "output_type": "stream",
          "name": "stdout",
          "text": [
            "{1, 2, 3, 4, 5, 6, 7, 8, 9}\n",
            "{1, 2, 3, 4, 6, 7, 8, 9}\n",
            "set()\n"
          ]
        }
      ]
    },
    {
      "cell_type": "markdown",
      "source": [
        "intersection, union, issubset, pop, remove methods.\n"
      ],
      "metadata": {
        "id": "F6jRd8EMUdIK"
      }
    },
    {
      "cell_type": "code",
      "source": [
        "set1 = {1,2,3,4,5,6,7,8,9,10}\n",
        "set2 = {5,6,7,8,9,10,11,12,13,14,15}\n",
        "\n",
        "# intersection() method\n",
        "print(set.intersection(set1,set2))          # returns intersection of\n",
        "                                            # two or more sets\n",
        "\n",
        "# union() method\n",
        "print(set.union(set1,set2))                 # returns union of\n",
        "                                            # two or more sets\n",
        "\n",
        "# issubset() method\n",
        "print(set1.issubset(set2))                  # checks if a set is a subset of\n",
        "                                            # another set or not\n",
        "subSet1 = {4,5,6,7}\n",
        "print(subSet1.issubset(set1))\n",
        "\n",
        "# pop() method\n",
        "print(set2.pop())                           # removes an element from the\n",
        "print(set2)                                 # beginning of the set\n",
        "\n",
        "# remove() method\n",
        "set2.remove(15)                             # removes an specific element\n",
        "print(set2)"
      ],
      "metadata": {
        "colab": {
          "base_uri": "https://localhost:8080/"
        },
        "id": "55Fpu3RqUbMg",
        "outputId": "9dfa950b-de2e-4525-92ac-b87b5b44eeb4"
      },
      "execution_count": 21,
      "outputs": [
        {
          "output_type": "stream",
          "name": "stdout",
          "text": [
            "{5, 6, 7, 8, 9, 10}\n",
            "{1, 2, 3, 4, 5, 6, 7, 8, 9, 10, 11, 12, 13, 14, 15}\n",
            "False\n",
            "True\n",
            "5\n",
            "{6, 7, 8, 9, 10, 11, 12, 13, 14, 15}\n",
            "{6, 7, 8, 9, 10, 11, 12, 13, 14}\n"
          ]
        }
      ]
    }
  ]
}
