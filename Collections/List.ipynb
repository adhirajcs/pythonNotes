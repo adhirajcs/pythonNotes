{
  "nbformat": 4,
  "nbformat_minor": 0,
  "metadata": {
    "colab": {
      "provenance": [],
      "authorship_tag": "ABX9TyPl+5dwH8UaHkvLdDE3Yiat"
    },
    "kernelspec": {
      "name": "python3",
      "display_name": "Python 3"
    },
    "language_info": {
      "name": "python"
    }
  },
  "cells": [
    {
      "cell_type": "markdown",
      "source": [
        "## Author - Adhiraj Saha"
      ],
      "metadata": {
        "id": "Z3WqdXACcmQu"
      }
    },
    {
      "cell_type": "markdown",
      "source": [
        "### List are **ordered**, **indexed**, **mutable**.\n",
        "They are the most flexible and dynamic collections of elements in python."
      ],
      "metadata": {
        "id": "1By7VNk7ftwi"
      }
    },
    {
      "cell_type": "markdown",
      "source": [
        "index, append, extend methods"
      ],
      "metadata": {
        "id": "vlzMJ_NYDC68"
      }
    },
    {
      "cell_type": "code",
      "execution_count": null,
      "metadata": {
        "id": "3UXN5Scocbzv",
        "colab": {
          "base_uri": "https://localhost:8080/"
        },
        "outputId": "8092fa5f-2599-4ea0-cd3a-88e336712423"
      },
      "outputs": [
        {
          "output_type": "stream",
          "name": "stdout",
          "text": [
            "1\n",
            "['ele1', 'ele2', 'ele3', 'ele4', 'ele5']\n",
            "['ele1', 'ele2', 'ele3', 'ele4', 'ele5', 'ele6', 'ele7', 'ele8']\n"
          ]
        }
      ],
      "source": [
        "# empty list\n",
        "list1 = []\n",
        "\n",
        "list1 = [\"ele1\",\"ele2\",\"ele3\",\"ele4\"]\n",
        "\n",
        "# index() method\n",
        "print(list1.index(\"ele2\"))              # returns the index no of given element\n",
        "\n",
        "# append() method              \n",
        "list1.append(\"ele5\")                    # adds the element at the end of the list\n",
        "print(list1)\n",
        "\n",
        "# extend() method\n",
        "list1.extend([\"ele6\",\"ele7\",\"ele8\"])    # adds elements of a given list\n",
        "                                        # (or any kind of iterable) \n",
        "                                        # to the end of the list\n",
        "print(list1)"
      ]
    },
    {
      "cell_type": "markdown",
      "source": [
        "insert, pop, remove, clear methods"
      ],
      "metadata": {
        "id": "qbSDLCO6D350"
      }
    },
    {
      "cell_type": "code",
      "source": [
        "# insert() method\n",
        "list1.insert(2,\"ele2.1\")               # adds elements at the specified position\n",
        "list1.insert(8,\"ele8\")\n",
        "print(list1)\n",
        "\n",
        "# pop() method\n",
        "print(list1.pop(2))                    # removes the element at the specified position\n",
        "print(list1)\n",
        "\n",
        "# remove () method\n",
        "list1.remove(\"ele8\")                   # removes the first occurence of the\n",
        "                                       # specified element\n",
        "print(list1)\n",
        "\n",
        "# clear() method\n",
        "list1.clear()                          # clears the whole list\n",
        "print(list1)"
      ],
      "metadata": {
        "colab": {
          "base_uri": "https://localhost:8080/"
        },
        "id": "fugEeZtIC_7W",
        "outputId": "1588b077-45d3-4b63-f143-a77a47778bda"
      },
      "execution_count": null,
      "outputs": [
        {
          "output_type": "stream",
          "name": "stdout",
          "text": [
            "['ele1', 'ele2', 'ele2.1', 'ele3', 'ele4', 'ele5', 'ele6', 'ele7', 'ele8', 'ele8']\n",
            "ele2.1\n",
            "['ele1', 'ele2', 'ele3', 'ele4', 'ele5', 'ele6', 'ele7', 'ele8', 'ele8']\n",
            "['ele1', 'ele2', 'ele3', 'ele4', 'ele5', 'ele6', 'ele7', 'ele8']\n",
            "[]\n"
          ]
        }
      ]
    },
    {
      "cell_type": "markdown",
      "source": [
        "count, reverse, sort methods"
      ],
      "metadata": {
        "id": "rmp74Q-vGzhl"
      }
    },
    {
      "cell_type": "code",
      "source": [
        "li = [1,2,2,3,3,4,654,7,6,78,4]\n",
        "print(li)\n",
        "\n",
        "# count() method\n",
        "print(li.count(2))                  # returns the number of elements with the\n",
        "                                    # specified value\n",
        "# reverse() method\n",
        "li.reverse()                        # reverses the list\n",
        "print(li)                              \n",
        "\n",
        "# sort() method\n",
        "li.sort()                           # sorts the list\n",
        "print(li)\n",
        "li.sort(reverse=True)               # reverse sort the list\n",
        "print(li)"
      ],
      "metadata": {
        "colab": {
          "base_uri": "https://localhost:8080/"
        },
        "id": "02JSLcvwG35T",
        "outputId": "71dd8c20-63be-479f-fa5b-b72485c8d4e5"
      },
      "execution_count": null,
      "outputs": [
        {
          "output_type": "stream",
          "name": "stdout",
          "text": [
            "[1, 2, 2, 3, 3, 4, 654, 7, 6, 78, 4]\n",
            "2\n",
            "[4, 78, 6, 7, 654, 4, 3, 3, 2, 2, 1]\n",
            "[1, 2, 2, 3, 3, 4, 4, 6, 7, 78, 654]\n",
            "[654, 78, 7, 6, 4, 4, 3, 3, 2, 2, 1]\n"
          ]
        }
      ]
    }
  ]
}
