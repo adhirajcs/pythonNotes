{
  "nbformat": 4,
  "nbformat_minor": 0,
  "metadata": {
    "colab": {
      "provenance": [],
      "authorship_tag": "ABX9TyNwW53F0Xoho8wSDpgwc+Px"
    },
    "kernelspec": {
      "name": "python3",
      "display_name": "Python 3"
    },
    "language_info": {
      "name": "python"
    }
  },
  "cells": [
    {
      "cell_type": "markdown",
      "source": [
        "Author - Adhiraj Saha"
      ],
      "metadata": {
        "id": "oi_tqvoRTUjB"
      }
    },
    {
      "cell_type": "markdown",
      "source": [
        "String Slicing"
      ],
      "metadata": {
        "id": "gySHyEm8UJAA"
      }
    },
    {
      "cell_type": "code",
      "execution_count": null,
      "metadata": {
        "colab": {
          "base_uri": "https://localhost:8080/"
        },
        "id": "VdfXJ7JYRUL5",
        "outputId": "d40a9fad-472e-47f0-e355-00c87e154142"
      },
      "outputs": [
        {
          "output_type": "stream",
          "name": "stdout",
          "text": [
            "lloW\n",
            "Worl\n",
            "World\n"
          ]
        }
      ],
      "source": [
        "# string_variable[ start_index:stop_index:step_value]\n",
        "\n",
        "varStr = \"HelloWorld\"    #start index inclusive and end index exclusive\n",
        "print(varStr[2:6])\n",
        "print(varStr[5:9])\n",
        "print(varStr[5:])"
      ]
    },
    {
      "cell_type": "markdown",
      "source": [
        "Some String Methods"
      ],
      "metadata": {
        "id": "nFpfmUdAZ0T5"
      }
    },
    {
      "cell_type": "code",
      "source": [
        "print(\"1242\".isdigit())                      # return true if all characters are digits\n",
        "\n",
        "\n",
        "print(\"Hello World\".islower())               # return true if all characters are lowercased\n",
        "\n",
        "print(\" \".isspace())                         # return true if all characters are whitespaces\n",
        "\n",
        "str1 = \"HELLO WORLD\"\n",
        "print(str1.isupper())                        # return ture if all characters are uppercased\n",
        "\n",
        "print(str1.lower())                          # converts the string to lower case\n",
        "print(str1.upper())                          # converts the string to upper case\n",
        "\n",
        "print(\"   fd   dfs  f ds f     \".strip())    # removes leading and trailing spaces"
      ],
      "metadata": {
        "colab": {
          "base_uri": "https://localhost:8080/"
        },
        "id": "3CaFXfmjaMkF",
        "outputId": "9c5ce0fe-a013-4a0e-8e5d-98e4103c54e1"
      },
      "execution_count": null,
      "outputs": [
        {
          "output_type": "stream",
          "name": "stdout",
          "text": [
            "True\n",
            "False\n",
            "True\n",
            "True\n",
            "hello world\n",
            "HELLO WORLD\n",
            "fd   dfs  f ds f\n"
          ]
        }
      ]
    }
  ]
}