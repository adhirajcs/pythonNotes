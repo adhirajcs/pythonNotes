{
  "nbformat": 4,
  "nbformat_minor": 0,
  "metadata": {
    "colab": {
      "provenance": [],
      "authorship_tag": "ABX9TyMOwbdpHnhJmag+ymznngxW"
    },
    "kernelspec": {
      "name": "python3",
      "display_name": "Python 3"
    },
    "language_info": {
      "name": "python"
    }
  },
  "cells": [
    {
      "cell_type": "markdown",
      "source": [
        "## Author - Adhiraj Saha"
      ],
      "metadata": {
        "id": "oi_tqvoRTUjB"
      }
    },
    {
      "cell_type": "markdown",
      "source": [
        "### Strings are **ordered**, **immutable**."
      ],
      "metadata": {
        "id": "uTtEhpU865K2"
      }
    },
    {
      "cell_type": "markdown",
      "source": [
        "**Multi line String**"
      ],
      "metadata": {
        "id": "o98tC3WS7Urd"
      }
    },
    {
      "cell_type": "code",
      "source": [
        "st = \"\"\"Welcome\n",
        "to HITK\"\"\"\n",
        "print(st)"
      ],
      "metadata": {
        "colab": {
          "base_uri": "https://localhost:8080/"
        },
        "id": "fY8nWlJA7ayN",
        "outputId": "3fa5fdaf-d6da-4401-f3c6-cc3c44937d2a"
      },
      "execution_count": 1,
      "outputs": [
        {
          "output_type": "stream",
          "name": "stdout",
          "text": [
            "Welcome\n",
            "to HITK\n"
          ]
        }
      ]
    },
    {
      "cell_type": "markdown",
      "source": [
        "**String Concatenation**"
      ],
      "metadata": {
        "id": "T0L5jYGM7xU1"
      }
    },
    {
      "cell_type": "code",
      "source": [
        "deg = \"MCA\"\n",
        "col = \"HITK\"\n",
        "print(deg + \" \" + col)"
      ],
      "metadata": {
        "colab": {
          "base_uri": "https://localhost:8080/"
        },
        "id": "LRv9GgqB73it",
        "outputId": "fe9fc595-2ffc-4313-fecc-72421fdb31af"
      },
      "execution_count": 5,
      "outputs": [
        {
          "output_type": "stream",
          "name": "stdout",
          "text": [
            "MCA HITK\n"
          ]
        }
      ]
    },
    {
      "cell_type": "markdown",
      "source": [
        "**String Indexing**"
      ],
      "metadata": {
        "id": "lWnqJHkY_55k"
      }
    },
    {
      "cell_type": "code",
      "source": [
        "# 0  1  2  3  4  5  6  7\n",
        "# M  C  A     H  I  T  K\n",
        "#-8 -7 -6    -4 -3 -2 -1 \n",
        "\n",
        "st = \"MCA HITK\"\n",
        "print(st[0])                  # printing the 0th element of the string\n",
        "\n",
        "# negative indexing\n",
        "print(st[-6])                 # printing the -6 element from the right\n",
        "                              # counting from -1"
      ],
      "metadata": {
        "colab": {
          "base_uri": "https://localhost:8080/"
        },
        "id": "LjqeaAf5_9LN",
        "outputId": "d4d3337d-f70e-470e-a863-f32fc7b095fa"
      },
      "execution_count": 6,
      "outputs": [
        {
          "output_type": "stream",
          "name": "stdout",
          "text": [
            "M\n",
            "A\n"
          ]
        }
      ]
    },
    {
      "cell_type": "markdown",
      "source": [
        "**String Slicing**"
      ],
      "metadata": {
        "id": "gySHyEm8UJAA"
      }
    },
    {
      "cell_type": "code",
      "execution_count": 13,
      "metadata": {
        "colab": {
          "base_uri": "https://localhost:8080/"
        },
        "id": "VdfXJ7JYRUL5",
        "outputId": "28747288-dbd8-4e4a-f37c-278ab9f6426f"
      },
      "outputs": [
        {
          "output_type": "stream",
          "name": "stdout",
          "text": [
            "lloW\n",
            "Worl\n",
            "World\n",
            "Hell\n",
            "HelloWorl\n",
            "dlroWolleH\n"
          ]
        }
      ],
      "source": [
        "# string_variable[ start_index:stop_index:step_value]\n",
        "\n",
        "varStr = \"HelloWorld\"    # start index inclusive and end index exclusive\n",
        "print(varStr[2:6])\n",
        "print(varStr[5:9])\n",
        "print(varStr[5:])\n",
        "\n",
        "print(varStr[:-6])       # string slicing using negative indexing"
      ]
    },
    {
      "cell_type": "markdown",
      "source": [
        "**String Reversing**"
      ],
      "metadata": {
        "id": "7KykzkeUDWq7"
      }
    },
    {
      "cell_type": "code",
      "source": [
        "st = \"MCA HTIK\"\n",
        "print(st[::-1])"
      ],
      "metadata": {
        "colab": {
          "base_uri": "https://localhost:8080/"
        },
        "id": "PFj8vQjNDZUi",
        "outputId": "8832a8d1-3a9b-4d20-cd3a-ccc5d2838f74"
      },
      "execution_count": 14,
      "outputs": [
        {
          "output_type": "stream",
          "name": "stdout",
          "text": [
            "KITH ACM\n"
          ]
        }
      ]
    },
    {
      "cell_type": "markdown",
      "source": [
        "**isdigit, islower, isspace, isupper, lower, upper, capitalize, title, strip methods**"
      ],
      "metadata": {
        "id": "nFpfmUdAZ0T5"
      }
    },
    {
      "cell_type": "code",
      "source": [
        "# isdigit() method\n",
        "print(\"1242\".isdigit())                     # return true if all characters are digits\n",
        "\n",
        "\n",
        "# islower() method\n",
        "print(\"Hello World\".islower())              # return true if all characters are lowercased\n",
        "\n",
        "\n",
        "# isspace() method\n",
        "print(\" \".isspace())                        # return true if all characters are whitespaces\n",
        "\n",
        "\n",
        "# isupper() method\n",
        "str1 = \"HELLO WORLD\"\n",
        "print(str1.isupper())                       # return ture if all characters are uppercased\n",
        "\n",
        "\n",
        "# lower() and upper () method\n",
        "print(str1.lower())                         # converts the string to lower case\n",
        "print(str1.upper())                         # converts the string to upper case\n",
        "\n",
        "\n",
        "# capitalize() method\n",
        "print(str1.capitalize())                    # capitalize the 1st letter of the string\n",
        "\n",
        "\n",
        "# title() method\n",
        "print(str1.title())                         # capitalize the 1st letter of each word\n",
        "\n",
        "\"\"\"Note for title() : If the word contains a number or symbol at first then\n",
        "the 1st letter after that will be upper cased/capital\"\"\"\n",
        "\n",
        "\n",
        "# strip() method\n",
        "print()\n",
        "print(\"   fd   dfs  f ds f     \".strip())   # removes leading and trailing spaces\n",
        "print(\".....dgfdgfgf.......\".strip(\".\"))    # removes leading and trailing specified characters"
      ],
      "metadata": {
        "colab": {
          "base_uri": "https://localhost:8080/"
        },
        "id": "3CaFXfmjaMkF",
        "outputId": "a9473913-e33f-43c6-b79d-f89b7d0e3061"
      },
      "execution_count": 33,
      "outputs": [
        {
          "output_type": "stream",
          "name": "stdout",
          "text": [
            "True\n",
            "False\n",
            "True\n",
            "True\n",
            "hello world\n",
            "HELLO WORLD\n",
            "Hello world\n",
            "Hello World\n",
            "\n",
            "fd   dfs  f ds f\n",
            "dgfdgfgf\n"
          ]
        }
      ]
    },
    {
      "cell_type": "markdown",
      "source": [
        "**count, find, index methods**"
      ],
      "metadata": {
        "id": "U8E5incWOf7N"
      }
    },
    {
      "cell_type": "code",
      "source": [
        "# count() method\n",
        "msg = \"\"\"we forget soon the things\n",
        "we thought we could never forget\"\"\"\n",
        "print(msg.count(\"we\"))                      # returns the no of occurences of the value\n",
        "\n",
        "\n",
        "# find() method\n",
        "print(\"find()\")\n",
        "print(msg.find(\"we\"))                       # returns 0 if the value is found\n",
        "print(msg.find(\"us\"))                       # else returns -1 if not found\n",
        "print(msg.find(\"we\",10,30))                 # string.find(value, start, end)\n",
        "                                            # start and end are optional\n",
        "\n",
        "# index() method\n",
        "print(\"index()\")\n",
        "print(msg.index(\"we\"))                      # return 0 if found same as find\n",
        "print(msg.index(\"we\",10,30))                # same as find\n",
        "print(msg.index(\"us\"))                      # gives exception if not found"
      ],
      "metadata": {
        "colab": {
          "base_uri": "https://localhost:8080/",
          "height": 339
        },
        "id": "GZaeLlJXItdp",
        "outputId": "c82c4451-e79a-4676-9cc6-3d11c794a757"
      },
      "execution_count": 41,
      "outputs": [
        {
          "output_type": "stream",
          "name": "stdout",
          "text": [
            "3\n",
            "find()\n",
            "0\n",
            "-1\n",
            "26\n",
            "index()\n",
            "0\n",
            "26\n"
          ]
        },
        {
          "output_type": "error",
          "ename": "ValueError",
          "evalue": "ignored",
          "traceback": [
            "\u001b[0;31m---------------------------------------------------------------------------\u001b[0m",
            "\u001b[0;31mValueError\u001b[0m                                Traceback (most recent call last)",
            "\u001b[0;32m<ipython-input-41-987393c88251>\u001b[0m in \u001b[0;36m<module>\u001b[0;34m\u001b[0m\n\u001b[1;32m     16\u001b[0m \u001b[0mprint\u001b[0m\u001b[0;34m(\u001b[0m\u001b[0mmsg\u001b[0m\u001b[0;34m.\u001b[0m\u001b[0mindex\u001b[0m\u001b[0;34m(\u001b[0m\u001b[0;34m\"we\"\u001b[0m\u001b[0;34m)\u001b[0m\u001b[0;34m)\u001b[0m                      \u001b[0;31m# return 0 if found same as find\u001b[0m\u001b[0;34m\u001b[0m\u001b[0;34m\u001b[0m\u001b[0m\n\u001b[1;32m     17\u001b[0m \u001b[0mprint\u001b[0m\u001b[0;34m(\u001b[0m\u001b[0mmsg\u001b[0m\u001b[0;34m.\u001b[0m\u001b[0mindex\u001b[0m\u001b[0;34m(\u001b[0m\u001b[0;34m\"we\"\u001b[0m\u001b[0;34m,\u001b[0m\u001b[0;36m10\u001b[0m\u001b[0;34m,\u001b[0m\u001b[0;36m30\u001b[0m\u001b[0;34m)\u001b[0m\u001b[0;34m)\u001b[0m                \u001b[0;31m# same as find\u001b[0m\u001b[0;34m\u001b[0m\u001b[0;34m\u001b[0m\u001b[0m\n\u001b[0;32m---> 18\u001b[0;31m \u001b[0mprint\u001b[0m\u001b[0;34m(\u001b[0m\u001b[0mmsg\u001b[0m\u001b[0;34m.\u001b[0m\u001b[0mindex\u001b[0m\u001b[0;34m(\u001b[0m\u001b[0;34m\"us\"\u001b[0m\u001b[0;34m)\u001b[0m\u001b[0;34m)\u001b[0m                      \u001b[0;31m# gives exception if not found\u001b[0m\u001b[0;34m\u001b[0m\u001b[0;34m\u001b[0m\u001b[0m\n\u001b[0m",
            "\u001b[0;31mValueError\u001b[0m: substring not found"
          ]
        }
      ]
    },
    {
      "cell_type": "markdown",
      "source": [
        "**replace() method**"
      ],
      "metadata": {
        "id": "HINewltdOqGe"
      }
    },
    {
      "cell_type": "code",
      "source": [
        "txt = \" hi hello bye hitk mca python python python\"\n",
        "print(txt.replace(\"python\",\"java\"))                 # replaces the old value with new\n",
        "print(txt.replace(\"python\", \"java\",1))              # replaces only 1st occurences of mentioned \n",
        "print(txt.replace(\"python\", \"java\",2))              # number of the old value"
      ],
      "metadata": {
        "colab": {
          "base_uri": "https://localhost:8080/"
        },
        "id": "v8273S5uKuxw",
        "outputId": "229c2d41-9e38-4637-d051-5f55ad497718"
      },
      "execution_count": 36,
      "outputs": [
        {
          "output_type": "stream",
          "name": "stdout",
          "text": [
            " hi hello bye hitk mca java java java\n",
            " hi hello bye hitk mca java python python\n",
            " hi hello bye hitk mca java java python\n"
          ]
        }
      ]
    },
    {
      "cell_type": "markdown",
      "source": [
        "**split() method**"
      ],
      "metadata": {
        "id": "HO_B5fQTOxUW"
      }
    },
    {
      "cell_type": "code",
      "source": [
        "txt = \"HITk MCA\"\n",
        "print(txt.split())                    # splits a string into a list\n",
        "\n",
        "txt = \"hitk:mca:college\"\n",
        "print(txt.split(\":\"))                 # slipts at all the occurences of specified value\n",
        "print(txt.split(\":\",1))               # splits only at the 1st mentioned occurences\n",
        "                                      # of the specified value"
      ],
      "metadata": {
        "colab": {
          "base_uri": "https://localhost:8080/"
        },
        "id": "sDGN2yuKMKj9",
        "outputId": "1ef53f86-54d1-42ed-f069-802ac9410237"
      },
      "execution_count": 40,
      "outputs": [
        {
          "output_type": "stream",
          "name": "stdout",
          "text": [
            "['HITk', 'MCA']\n",
            "['hitk', 'mca', 'college']\n",
            "['hitk', 'mca:college']\n"
          ]
        }
      ]
    },
    {
      "cell_type": "markdown",
      "source": [
        "**join() method**"
      ],
      "metadata": {
        "id": "7MNcvz7DOBye"
      }
    },
    {
      "cell_type": "code",
      "source": [
        "st1 = \"HEllo\"\n",
        "print(\" \".join(st1))\n",
        "print(\"-\".join(st1))"
      ],
      "metadata": {
        "colab": {
          "base_uri": "https://localhost:8080/"
        },
        "id": "8vZL_sUJO8k_",
        "outputId": "9c8e5ec5-a9ce-4b99-f264-713f936d2ffb"
      },
      "execution_count": 43,
      "outputs": [
        {
          "output_type": "stream",
          "name": "stdout",
          "text": [
            "H E l l o\n",
            "H-E-l-l-o\n"
          ]
        }
      ]
    },
    {
      "cell_type": "markdown",
      "source": [
        "**Formatting a String**"
      ],
      "metadata": {
        "id": "08he-9z-Pb3l"
      }
    },
    {
      "cell_type": "code",
      "source": [
        "# formating using %\n",
        "\n",
        "deg = \"MCA\"\n",
        "students = 61\n",
        "age = 22.6463\n",
        "print(\"We have %d students in %s of age %.2f\" %(students,deg,age))"
      ],
      "metadata": {
        "colab": {
          "base_uri": "https://localhost:8080/"
        },
        "id": "oCWy8L0JPeDq",
        "outputId": "474101e5-76ae-4c86-c7e5-52b9c0ae9542"
      },
      "execution_count": 49,
      "outputs": [
        {
          "output_type": "stream",
          "name": "stdout",
          "text": [
            "We have 61 students in MCA of age 22.65\n"
          ]
        }
      ]
    },
    {
      "cell_type": "code",
      "source": [
        "# formatting using format() method\n",
        "\n",
        "deg = \"MCA\"\n",
        "students = 61\n",
        "age = 22.6463\n",
        "print(\"We have {} students in {} of age {:.2f}\".format(students,deg,age))\n",
        "print(\"We have {0} students in {1} of age {2}\".format(students,deg,age))\n",
        "print(\"We have {s} students in {d} of age {a}\".format(s=students,d=deg,a=age))"
      ],
      "metadata": {
        "colab": {
          "base_uri": "https://localhost:8080/"
        },
        "id": "SfqseQw9RJI0",
        "outputId": "bd3fb428-64ed-4304-ad99-6ed39a315d1d"
      },
      "execution_count": 57,
      "outputs": [
        {
          "output_type": "stream",
          "name": "stdout",
          "text": [
            "We have 61 students in MCA of age 22.65\n",
            "We have 61 students in MCA of age 22.6463\n",
            "We have 61 students in MCA of age 22.6463\n"
          ]
        }
      ]
    },
    {
      "cell_type": "code",
      "source": [
        "# formatting using F-strings\n",
        "\n",
        "deg = \"MCA\"\n",
        "students = 61\n",
        "age = 22.6463\n",
        "print(f\"We have {deg} students in {students} of age {age:.{4}}\")"
      ],
      "metadata": {
        "colab": {
          "base_uri": "https://localhost:8080/"
        },
        "id": "hGCA-WDhSLI7",
        "outputId": "22259ab7-c121-4154-c115-007adc6b9bdc"
      },
      "execution_count": 59,
      "outputs": [
        {
          "output_type": "stream",
          "name": "stdout",
          "text": [
            "We have MCA students in 61 of age 22.65\n"
          ]
        }
      ]
    }
  ]
}