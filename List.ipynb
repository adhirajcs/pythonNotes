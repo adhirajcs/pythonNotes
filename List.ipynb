{
  "nbformat": 4,
  "nbformat_minor": 0,
  "metadata": {
    "colab": {
      "provenance": [],
      "authorship_tag": "ABX9TyO61RMRI1Z0mCJUfwAuB6ap"
    },
    "kernelspec": {
      "name": "python3",
      "display_name": "Python 3"
    },
    "language_info": {
      "name": "python"
    }
  },
  "cells": [
    {
      "cell_type": "markdown",
      "source": [
        "## Author - Adhiraj Saha"
      ],
      "metadata": {
        "id": "Z3WqdXACcmQu"
      }
    },
    {
      "cell_type": "markdown",
      "source": [
        "### List are **ordered**, **indexed**, **mutable** and **allows duplicate values**.\n",
        "*They are the most flexible and dynamic collections of elements in python.*"
      ],
      "metadata": {
        "id": "1By7VNk7ftwi"
      }
    },
    {
      "cell_type": "code",
      "source": [
        "# list() constructor\n",
        "mylist = list((\"bca\",\"mca\",\"mtech\"))\n",
        "print(mylist)"
      ],
      "metadata": {
        "colab": {
          "base_uri": "https://localhost:8080/"
        },
        "id": "nlrh9Ktq5P3V",
        "outputId": "fafb2bce-7bfe-46a6-907a-4537cbcb2f34"
      },
      "execution_count": 3,
      "outputs": [
        {
          "output_type": "stream",
          "name": "stdout",
          "text": [
            "['bca', 'mca', 'mtech']\n"
          ]
        }
      ]
    },
    {
      "cell_type": "markdown",
      "source": [
        "**index, append, extend methods**"
      ],
      "metadata": {
        "id": "vlzMJ_NYDC68"
      }
    },
    {
      "cell_type": "code",
      "execution_count": null,
      "metadata": {
        "id": "3UXN5Scocbzv",
        "colab": {
          "base_uri": "https://localhost:8080/"
        },
        "outputId": "8092fa5f-2599-4ea0-cd3a-88e336712423"
      },
      "outputs": [
        {
          "output_type": "stream",
          "name": "stdout",
          "text": [
            "1\n",
            "['ele1', 'ele2', 'ele3', 'ele4', 'ele5']\n",
            "['ele1', 'ele2', 'ele3', 'ele4', 'ele5', 'ele6', 'ele7', 'ele8']\n"
          ]
        }
      ],
      "source": [
        "# empty list\n",
        "list1 = []\n",
        "\n",
        "list1 = [\"ele1\",\"ele2\",\"ele3\",\"ele4\"]\n",
        "\n",
        "# index() method\n",
        "print(list1.index(\"ele2\"))              # returns the index no of given element\n",
        "\n",
        "# append() method              \n",
        "list1.append(\"ele5\")                    # adds the element at the end of the list\n",
        "print(list1)\n",
        "\n",
        "# extend() method\n",
        "list1.extend([\"ele6\",\"ele7\",\"ele8\"])    # adds elements of a given list\n",
        "                                        # (or any kind of iterable) \n",
        "                                        # to the end of the list\n",
        "print(list1)"
      ]
    },
    {
      "cell_type": "markdown",
      "source": [
        "**Traversing a list** and **Checking membership**"
      ],
      "metadata": {
        "id": "Zr3G8x196nO1"
      }
    },
    {
      "cell_type": "code",
      "source": [
        "# traversing\n",
        "li = [\"bca\",\"mca\",\"mtech\"]\n",
        "for li in li:\n",
        "  print(li)\n",
        "\n",
        "\"\"\"another way\"\"\"\n",
        "li = [\"bca\",\"mca\",\"mtech\"]\n",
        "for i in range(len(li)):\n",
        "  print(li[i])\n",
        "\n",
        "\n",
        "# checking membership\n",
        "if \"mca\" in li:\n",
        "  print(True)\n",
        "else:\n",
        "  print(False)"
      ],
      "metadata": {
        "colab": {
          "base_uri": "https://localhost:8080/"
        },
        "id": "KtIwJTxI6rbd",
        "outputId": "5ebe0fd0-c597-4bfd-bde4-85a0fb31d9f2"
      },
      "execution_count": 15,
      "outputs": [
        {
          "output_type": "stream",
          "name": "stdout",
          "text": [
            "bca\n",
            "mca\n",
            "mtech\n",
            "bca\n",
            "mca\n",
            "mtech\n",
            "True\n"
          ]
        }
      ]
    },
    {
      "cell_type": "markdown",
      "source": [
        "**List Slicing**"
      ],
      "metadata": {
        "id": "1JBFQcba8ctU"
      }
    },
    {
      "cell_type": "code",
      "source": [
        "courses = [\"bca\",\"mca\",\"btech\",\"mtech\",\"bsc\",\"msc\"]\n",
        "\n",
        "# Start index Inclusive and End index not Inclusive\n",
        "print(courses[0:5])\n",
        "print(courses[2:3])\n",
        "print(courses[1:4])"
      ],
      "metadata": {
        "colab": {
          "base_uri": "https://localhost:8080/"
        },
        "id": "HzmGiywZ8guN",
        "outputId": "128ac8a0-4ec4-42f6-df9a-00007bec4b6c"
      },
      "execution_count": 25,
      "outputs": [
        {
          "output_type": "stream",
          "name": "stdout",
          "text": [
            "['bca', 'mca', 'btech', 'mtech', 'bsc']\n",
            "['btech']\n",
            "['mca', 'btech', 'mtech']\n"
          ]
        }
      ]
    },
    {
      "cell_type": "markdown",
      "source": [
        "**max, min, sum, len methods**"
      ],
      "metadata": {
        "id": "ROBc_d7V594d"
      }
    },
    {
      "cell_type": "code",
      "source": [
        "li = [1,2,3,4,5]\n",
        "\n",
        "# max() method\n",
        "print(max(li))\n",
        "\n",
        "# min() method\n",
        "print(min(li))\n",
        "\n",
        "# sum() method\n",
        "print(sum(li))\n",
        "\n",
        "# len() method\n",
        "print(len(li))"
      ],
      "metadata": {
        "colab": {
          "base_uri": "https://localhost:8080/"
        },
        "id": "fQm2C3IQ6GIs",
        "outputId": "46b96e3a-3657-4e6d-e7fa-bdc3a0e9dfe1"
      },
      "execution_count": 7,
      "outputs": [
        {
          "output_type": "stream",
          "name": "stdout",
          "text": [
            "5\n",
            "1\n",
            "15\n",
            "5\n"
          ]
        }
      ]
    },
    {
      "cell_type": "markdown",
      "source": [
        "**insert, pop, remove, clear methods**"
      ],
      "metadata": {
        "id": "qbSDLCO6D350"
      }
    },
    {
      "cell_type": "code",
      "source": [
        "list1 = [\"ele1\",\"ele2\",\"ele3\",\"ele4\"]\n",
        "\n",
        "# insert() method\n",
        "list1.insert(2,\"ele2.1\")               # adds elements at the specified position\n",
        "list1.insert(8,\"ele8\")\n",
        "print(list1)\n",
        "\n",
        "\n",
        "# pop() method\n",
        "print(list1.pop(2))                    # removes the element at the specified position\n",
        "print(list1)\n",
        "\n",
        "\n",
        "# remove() method\n",
        "list1.remove(\"ele8\")                   # removes the first occurence of the\n",
        "print(list1)                           # specified element\n",
        "\n",
        "\n",
        "# clear() method\n",
        "list1.clear()                          # clears the whole list\n",
        "print(list1)\n",
        "\n",
        "\n",
        "# del keyword\n",
        "del list1                              # deletes the entire list\n",
        "print(list1)"
      ],
      "metadata": {
        "colab": {
          "base_uri": "https://localhost:8080/",
          "height": 287
        },
        "id": "fugEeZtIC_7W",
        "outputId": "1181e79b-2dfc-4ff9-8b50-049bf0635e93"
      },
      "execution_count": 28,
      "outputs": [
        {
          "output_type": "stream",
          "name": "stdout",
          "text": [
            "['ele1', 'ele2', 'ele2.1', 'ele3', 'ele4', 'ele8']\n",
            "ele2.1\n",
            "['ele1', 'ele2', 'ele3', 'ele4', 'ele8']\n",
            "['ele1', 'ele2', 'ele3', 'ele4']\n",
            "[]\n"
          ]
        },
        {
          "output_type": "error",
          "ename": "NameError",
          "evalue": "ignored",
          "traceback": [
            "\u001b[0;31m---------------------------------------------------------------------------\u001b[0m",
            "\u001b[0;31mNameError\u001b[0m                                 Traceback (most recent call last)",
            "\u001b[0;32m<ipython-input-28-41989870c5cf>\u001b[0m in \u001b[0;36m<module>\u001b[0;34m\u001b[0m\n\u001b[1;32m     24\u001b[0m \u001b[0;31m# del keyword\u001b[0m\u001b[0;34m\u001b[0m\u001b[0;34m\u001b[0m\u001b[0;34m\u001b[0m\u001b[0m\n\u001b[1;32m     25\u001b[0m \u001b[0;32mdel\u001b[0m \u001b[0mlist1\u001b[0m                              \u001b[0;31m# deletes the entire list\u001b[0m\u001b[0;34m\u001b[0m\u001b[0;34m\u001b[0m\u001b[0m\n\u001b[0;32m---> 26\u001b[0;31m \u001b[0mprint\u001b[0m\u001b[0;34m(\u001b[0m\u001b[0mlist1\u001b[0m\u001b[0;34m)\u001b[0m\u001b[0;34m\u001b[0m\u001b[0;34m\u001b[0m\u001b[0m\n\u001b[0m",
            "\u001b[0;31mNameError\u001b[0m: name 'list1' is not defined"
          ]
        }
      ]
    },
    {
      "cell_type": "markdown",
      "source": [
        "**count, reverse, sort methods**"
      ],
      "metadata": {
        "id": "rmp74Q-vGzhl"
      }
    },
    {
      "cell_type": "code",
      "source": [
        "li = [1,2,2,3,3,4,654,7,6,78,4]\n",
        "print(li)\n",
        "\n",
        "# count() method\n",
        "print(li.count(2))                  # returns the number of elements with the\n",
        "           \n",
        "                                    # specified value\n",
        "# reverse() method\n",
        "li.reverse()                        # reverses the list\n",
        "print(li)                              \n",
        "\n",
        "\n",
        "# sort() method\n",
        "li.sort()                           # sorts the list\n",
        "print(li)\n",
        "li.sort(reverse=True)               # reverse sort the list\n",
        "print(li)"
      ],
      "metadata": {
        "colab": {
          "base_uri": "https://localhost:8080/"
        },
        "id": "02JSLcvwG35T",
        "outputId": "71dd8c20-63be-479f-fa5b-b72485c8d4e5"
      },
      "execution_count": null,
      "outputs": [
        {
          "output_type": "stream",
          "name": "stdout",
          "text": [
            "[1, 2, 2, 3, 3, 4, 654, 7, 6, 78, 4]\n",
            "2\n",
            "[4, 78, 6, 7, 654, 4, 3, 3, 2, 2, 1]\n",
            "[1, 2, 2, 3, 3, 4, 4, 6, 7, 78, 654]\n",
            "[654, 78, 7, 6, 4, 4, 3, 3, 2, 2, 1]\n"
          ]
        }
      ]
    },
    {
      "cell_type": "markdown",
      "source": [
        "**Shallow Copy**"
      ],
      "metadata": {
        "id": "Ri3bAXss_MlM"
      }
    },
    {
      "cell_type": "code",
      "source": [
        "# slicing\n",
        "x = [11,22,[33,44,66]]\n",
        "y = x[:]\n",
        "y[1] = 55\n",
        "y[2][0] = 100\n",
        "print(x)\n",
        "print(y)"
      ],
      "metadata": {
        "colab": {
          "base_uri": "https://localhost:8080/"
        },
        "id": "Z76bscVO_OZP",
        "outputId": "ecf6c6f7-feba-4bbe-f172-d265b77a82fc"
      },
      "execution_count": 34,
      "outputs": [
        {
          "output_type": "stream",
          "name": "stdout",
          "text": [
            "[11, 22, [100, 44, 66]]\n",
            "[11, 55, [100, 44, 66]]\n"
          ]
        }
      ]
    },
    {
      "cell_type": "code",
      "source": [
        "# list.copy() method\n",
        "\n",
        "x = [11,22,[33,44,66]]\n",
        "y = x.copy()\n",
        "y[1] = 55\n",
        "y[2][0] = 100\n",
        "print(x)\n",
        "print(y)"
      ],
      "metadata": {
        "colab": {
          "base_uri": "https://localhost:8080/"
        },
        "id": "GPlY7s26AHcS",
        "outputId": "7c9edfb0-a9f5-43e9-f900-4a59a9a6d6cd"
      },
      "execution_count": 37,
      "outputs": [
        {
          "output_type": "stream",
          "name": "stdout",
          "text": [
            "[11, 22, [100, 44, 66]]\n",
            "[11, 55, [100, 44, 66]]\n"
          ]
        }
      ]
    },
    {
      "cell_type": "code",
      "source": [
        "# list()\n",
        "\n",
        "x = [11,22,[33,44,66]]\n",
        "y = list(x)\n",
        "y[1] = 55\n",
        "y[2][0] = 100\n",
        "print(x)\n",
        "print(y)"
      ],
      "metadata": {
        "colab": {
          "base_uri": "https://localhost:8080/"
        },
        "id": "021lolxOAWzM",
        "outputId": "4a4eac64-37e2-4bed-a48f-730943468e09"
      },
      "execution_count": 38,
      "outputs": [
        {
          "output_type": "stream",
          "name": "stdout",
          "text": [
            "[11, 22, [100, 44, 66]]\n",
            "[11, 55, [100, 44, 66]]\n"
          ]
        }
      ]
    },
    {
      "cell_type": "code",
      "source": [
        "# copy package\n",
        "\n",
        "import copy as cp\n",
        "\n",
        "x = [11,22,[33,44,66]]\n",
        "y = cp.copy(x)\n",
        "y[1] = 55\n",
        "y[2][0] = 100\n",
        "print(x)\n",
        "print(y)"
      ],
      "metadata": {
        "colab": {
          "base_uri": "https://localhost:8080/"
        },
        "id": "iXeWSv-DAhBm",
        "outputId": "b99c7b10-6459-4062-a8b1-e16dbfff1908"
      },
      "execution_count": 41,
      "outputs": [
        {
          "output_type": "stream",
          "name": "stdout",
          "text": [
            "[11, 22, [100, 44, 66]]\n",
            "[11, 55, [100, 44, 66]]\n"
          ]
        }
      ]
    },
    {
      "cell_type": "markdown",
      "source": [
        "**Deep copy**"
      ],
      "metadata": {
        "id": "rUwXygN6AzPE"
      }
    },
    {
      "cell_type": "code",
      "source": [
        "import copy as cp\n",
        "\n",
        "x = [11,22,[33,44,66]]\n",
        "y = cp.deepcopy(x)\n",
        "y[1] = 55\n",
        "y[2][0] = 100\n",
        "print(x)\n",
        "print(y)"
      ],
      "metadata": {
        "colab": {
          "base_uri": "https://localhost:8080/"
        },
        "id": "kATe4xyhAxEE",
        "outputId": "ded43e49-deec-4417-9417-4aab456c1dac"
      },
      "execution_count": 42,
      "outputs": [
        {
          "output_type": "stream",
          "name": "stdout",
          "text": [
            "[11, 22, [33, 44, 66]]\n",
            "[11, 55, [100, 44, 66]]\n"
          ]
        }
      ]
    },
    {
      "cell_type": "markdown",
      "source": [
        "**List Comprehension**"
      ],
      "metadata": {
        "id": "UuVDM5CtBCkr"
      }
    },
    {
      "cell_type": "code",
      "source": [
        "# It is a compact way to create a new list based on the values of an existing list\n",
        "\n",
        "li = [\"1\",\"2\",\"3\",'4',\"5\",\"6\",\"7\",'8']\n",
        "\n",
        "li2 = [int(x) for x in li]\n",
        "print(li)\n",
        "print(li2)\n",
        "\n",
        "myList = [i for i in range(10) if i%2]\n",
        "print(myList)"
      ],
      "metadata": {
        "colab": {
          "base_uri": "https://localhost:8080/"
        },
        "id": "VnI3BbO3BIla",
        "outputId": "6361a75a-fced-403d-d070-41999e847d5d"
      },
      "execution_count": 51,
      "outputs": [
        {
          "output_type": "stream",
          "name": "stdout",
          "text": [
            "['1', '2', '3', '4', '5', '6', '7', '8']\n",
            "[1, 2, 3, 4, 5, 6, 7, 8]\n",
            "[1, 3, 5, 7, 9]\n"
          ]
        }
      ]
    }
  ]
}